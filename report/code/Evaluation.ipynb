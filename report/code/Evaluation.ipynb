{
 "cells": [
  {
   "cell_type": "code",
   "execution_count": 3,
   "id": "2b290e35",
   "metadata": {},
   "outputs": [],
   "source": [
    "import pandas as pd\n",
    "import evaluate\n",
    "from bert_score import score"
   ]
  },
  {
   "cell_type": "code",
   "execution_count": 16,
   "id": "8b196f96",
   "metadata": {},
   "outputs": [
    {
     "data": {
      "text/html": [
       "<div>\n",
       "<style scoped>\n",
       "    .dataframe tbody tr th:only-of-type {\n",
       "        vertical-align: middle;\n",
       "    }\n",
       "\n",
       "    .dataframe tbody tr th {\n",
       "        vertical-align: top;\n",
       "    }\n",
       "\n",
       "    .dataframe thead th {\n",
       "        text-align: right;\n",
       "    }\n",
       "</style>\n",
       "<table border=\"1\" class=\"dataframe\">\n",
       "  <thead>\n",
       "    <tr style=\"text-align: right;\">\n",
       "      <th></th>\n",
       "      <th>user_message</th>\n",
       "      <th>expected_message</th>\n",
       "      <th>generated_message</th>\n",
       "    </tr>\n",
       "  </thead>\n",
       "  <tbody>\n",
       "    <tr>\n",
       "      <th>0</th>\n",
       "      <td>B1: Opozorila Na hitri cesti Izola - Koper je ...</td>\n",
       "      <td>Na štajerski avtocesti proti Mariboru je zarad...</td>\n",
       "      <td>Na primorski avtocesti proti Ljubljani je zara...</td>\n",
       "    </tr>\n",
       "    <tr>\n",
       "      <th>1</th>\n",
       "      <td>B1: Zimske razmere Prelaz Vršič je zaprt. Na a...</td>\n",
       "      <td>Zaradi burje je na vipavski hitri cesti med ra...</td>\n",
       "      <td>Na vipavski hitri cesti je med Nanosom in Selo...</td>\n",
       "    </tr>\n",
       "    <tr>\n",
       "      <th>3</th>\n",
       "      <td>B1: Delo na cesti Dela na gorenjski avtocesti ...</td>\n",
       "      <td>Na primorski avtocesti proti Kopru je zaradi p...</td>\n",
       "      <td>Na območju rdeče stopnje je prepovedan promet ...</td>\n",
       "    </tr>\n",
       "  </tbody>\n",
       "</table>\n",
       "</div>"
      ],
      "text/plain": [
       "                                        user_message  \\\n",
       "0  B1: Opozorila Na hitri cesti Izola - Koper je ...   \n",
       "1  B1: Zimske razmere Prelaz Vršič je zaprt. Na a...   \n",
       "3  B1: Delo na cesti Dela na gorenjski avtocesti ...   \n",
       "\n",
       "                                    expected_message  \\\n",
       "0  Na štajerski avtocesti proti Mariboru je zarad...   \n",
       "1  Zaradi burje je na vipavski hitri cesti med ra...   \n",
       "3  Na primorski avtocesti proti Kopru je zaradi p...   \n",
       "\n",
       "                                   generated_message  \n",
       "0  Na primorski avtocesti proti Ljubljani je zara...  \n",
       "1  Na vipavski hitri cesti je med Nanosom in Selo...  \n",
       "3  Na območju rdeče stopnje je prepovedan promet ...  "
      ]
     },
     "execution_count": 16,
     "metadata": {},
     "output_type": "execute_result"
    }
   ],
   "source": [
    "df = pd.read_csv(\"../../evaluation_gams9b.csv\")\n",
    "df = df.dropna(subset=['expected_message', 'generated_message'])\n",
    "generated_messages = df[\"generated_message\"]\n",
    "expected_messages = df[\"expected_message\"]\n",
    "df.head(3)"
   ]
  },
  {
   "cell_type": "code",
   "execution_count": 21,
   "id": "bf6af335",
   "metadata": {},
   "outputs": [
    {
     "name": "stdout",
     "output_type": "stream",
     "text": [
      "Evaluation by hand\n",
      "Zaradi burje je na vipavski hitri cesti med razcepom Nanos in priključkom Selo prepovedan promet za hladilnike in vozila s ponjavami, lažja od 8 ton. Zaprt je prelaz Vršič, na avstrijski strani prelaza Korensko sedlo pa so obvezne verige. Ponekod po državi je zaradi megle zmanjšana vidljivost.\n",
      "--------------------------------------------------------------------------------------------------------------------------------------------------------------------------------------------------------\n",
      "Na vipavski hitri cesti je med Nanosom in Selom prepovedan promet za počitniške prikolice, hladilnike in vozila s ponjavami do 8 ton, burja 1. stopnje.\n"
     ]
    }
   ],
   "source": [
    "print(\"Evaluation by hand\")\n",
    "i = 1\n",
    "print(expected_messages[i])\n",
    "print(\"-\"*200)\n",
    "print(generated_messages[i])"
   ]
  },
  {
   "cell_type": "code",
   "execution_count": 7,
   "id": "57ab706e",
   "metadata": {},
   "outputs": [
    {
     "data": {
      "application/vnd.jupyter.widget-view+json": {
       "model_id": "da2d222b454b436baaab3d2c12ab5102",
       "version_major": 2,
       "version_minor": 0
      },
      "text/plain": [
       "Downloading builder script:   0%|          | 0.00/5.94k [00:00<?, ?B/s]"
      ]
     },
     "metadata": {},
     "output_type": "display_data"
    },
    {
     "data": {
      "application/vnd.jupyter.widget-view+json": {
       "model_id": "3b247189083646d3a512b0e81edbba81",
       "version_major": 2,
       "version_minor": 0
      },
      "text/plain": [
       "Downloading extra modules:   0%|          | 0.00/1.55k [00:00<?, ?B/s]"
      ]
     },
     "metadata": {},
     "output_type": "display_data"
    },
    {
     "data": {
      "application/vnd.jupyter.widget-view+json": {
       "model_id": "487f69c63a0c4d01835f0219db60a537",
       "version_major": 2,
       "version_minor": 0
      },
      "text/plain": [
       "Downloading extra modules:   0%|          | 0.00/3.34k [00:00<?, ?B/s]"
      ]
     },
     "metadata": {},
     "output_type": "display_data"
    },
    {
     "name": "stdout",
     "output_type": "stream",
     "text": [
      "{'bleu': 9.262142801994935e-15, 'precisions': [0.06636363636363636, 0.03577106518282989, 0.05379746835443038, 0.01948051948051948], 'brevity_penalty': 2.3321440255402565e-13, 'length_ratio': 0.03323714704416008, 'translation_length': 2200, 'reference_length': 66191}\n"
     ]
    }
   ],
   "source": [
    "bleu = evaluate.load(\"bleu\")\n",
    "results = bleu.compute(predictions=generated_messages, references=[[ref] for ref in expected_messages])\n",
    "print(results)"
   ]
  },
  {
   "cell_type": "code",
   "execution_count": 22,
   "id": "01252b04",
   "metadata": {},
   "outputs": [
    {
     "name": "stdout",
     "output_type": "stream",
     "text": [
      "calculating scores...\n",
      "computing bert embedding.\n"
     ]
    },
    {
     "data": {
      "application/vnd.jupyter.widget-view+json": {
       "model_id": "ce316d6ae8cf40ffb1822722ece22c94",
       "version_major": 2,
       "version_minor": 0
      },
      "text/plain": [
       "  0%|          | 0/15 [00:00<?, ?it/s]"
      ]
     },
     "metadata": {},
     "output_type": "display_data"
    },
    {
     "name": "stdout",
     "output_type": "stream",
     "text": [
      "computing greedy matching.\n"
     ]
    },
    {
     "data": {
      "application/vnd.jupyter.widget-view+json": {
       "model_id": "2deff77e155a4555bcd5ebc4e1a5f540",
       "version_major": 2,
       "version_minor": 0
      },
      "text/plain": [
       "  0%|          | 0/15 [00:00<?, ?it/s]"
      ]
     },
     "metadata": {},
     "output_type": "display_data"
    },
    {
     "name": "stdout",
     "output_type": "stream",
     "text": [
      "done in 14.31 seconds, 65.83 sentences/sec\n",
      "BERTScore Precision (P): 0.7758\n",
      "BERTScore Recall (R):    0.6966\n",
      "BERTScore F1:            0.7340\n"
     ]
    }
   ],
   "source": [
    "from bert_score import score\n",
    "\n",
    "generated_messages = [str(m) for m in generated_messages]\n",
    "expected_messages = [str(m) for m in expected_messages]\n",
    "\n",
    "assert len(generated_messages) == len(expected_messages)\n",
    "\n",
    "P, R, F1 = score(\n",
    "    cands=generated_messages,\n",
    "    refs=expected_messages,\n",
    "    model_type=\"xlm-roberta-base\",  # model, ki podpira slovenščino\n",
    "    lang=\"sl\",                      # samo za združljivost\n",
    "    rescale_with_baseline=False,   # ne uporabljaj baseline vrednosti\n",
    "    idf=False,                      # brez IDF\n",
    "    verbose=True,\n",
    ")\n",
    "\n",
    "print(f\"BERTScore Precision (P): {P.mean().item():.4f}\")\n",
    "print(f\"BERTScore Recall (R):    {R.mean().item():.4f}\")\n",
    "print(f\"BERTScore F1:            {F1.mean().item():.4f}\")\n",
    "\n"
   ]
  },
  {
   "cell_type": "code",
   "execution_count": 18,
   "id": "a9ad70e0",
   "metadata": {},
   "outputs": [
    {
     "name": "stdout",
     "output_type": "stream",
     "text": [
      "{'rouge1': np.float64(0.002932989152362467), 'rouge2': np.float64(0.0011701198500400603), 'rougeL': np.float64(0.002106692363024496), 'rougeLsum': np.float64(0.002076964016120725)}\n"
     ]
    }
   ],
   "source": [
    "import evaluate\n",
    "\n",
    "rouge = evaluate.load(\"rouge\")\n",
    "results = rouge.compute(predictions=generated_messages, references=expected_messages)\n",
    "print(results)\n"
   ]
  },
  {
   "cell_type": "markdown",
   "id": "d7c73cca",
   "metadata": {},
   "source": [
    "ROUGE and BLEU rely on n-gram overlap (i.e., exact matching of words or sequences of words).T hese low values mean the generated messages share almost no exact words or phrases with the reference (expected) messages.\n",
    "\n",
    "BLEU’s brevity penalty is extremely harsh: 2.33e-13, meaning the outputs are much shorter than the references (length_ratio ≈ 0.033), which kills the score.\n",
    "\n",
    "This is especially problematic in free-form or abstractive generation, or when paraphrasing."
   ]
  },
  {
   "cell_type": "markdown",
   "id": "4064449e",
   "metadata": {},
   "source": [
    "BERTScore does not require exact word overlap. It compares sentences based on semantic similarity using BERT embeddings. the results show that generated messages are semantically similar to the references. Even if the exact words or phrasing differ, the meaning is preserved."
   ]
  }
 ],
 "metadata": {
  "kernelspec": {
   "display_name": ".venv",
   "language": "python",
   "name": "python3"
  },
  "language_info": {
   "codemirror_mode": {
    "name": "ipython",
    "version": 3
   },
   "file_extension": ".py",
   "mimetype": "text/x-python",
   "name": "python",
   "nbconvert_exporter": "python",
   "pygments_lexer": "ipython3",
   "version": "3.10.12"
  }
 },
 "nbformat": 4,
 "nbformat_minor": 5
}
