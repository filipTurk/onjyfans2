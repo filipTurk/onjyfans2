{
 "cells": [
  {
   "cell_type": "markdown",
   "id": "c1cd6326",
   "metadata": {},
   "source": [
    "Recommended Next Steps:\n",
    "\n",
    "Data Cleaning and Standardization:\n",
    "\n",
    "Clean the encoding issues in the RTF content (notice the ? characters in the text)\n",
    "\n",
    "Standardize the date and time formats across both datasets\n",
    "\n",
    "Create a unified schema for traffic incidents\n",
    "\n",
    "Text Analysis and Feature Extraction:\n",
    "\n",
    "Extract key information from the traffic reports:\n",
    "\n",
    "Location (highways, cities, regions)\n",
    "\n",
    "Type of incident (accident, roadwork, weather conditions)\n",
    "\n",
    "Severity (delays, closures)\n",
    "\n",
    "Direction of traffic affected\n",
    "\n",
    "Use NLP techniques to categorize incidents\n",
    "\n",
    "Model Development:\n",
    "Since you have the YogobellaMLLMix model, you could:\n",
    "Fine-tune it on your traffic report data\n",
    "Use it to generate new reports based on the structured data\n",
    "Create a pipeline that converts PrometnoPorocilo data into RTV-style reports\n",
    "Evaluation Framework:\n",
    "Create metrics to evaluate generated reports against real RTV reports\n",
    "Consider aspects like:\n",
    "Accuracy of information\n",
    "Natural language quality\n",
    "Completeness of information\n",
    "Style consistency with RTV reports\n",
    "Specific Technical Tasks:\n",
    "Create a data preprocessing pipeline\n",
    "Implement text cleaning and normalization\n",
    "Develop a structured format for traffic incidents\n",
    "Build a report generation pipeline\n",
    "Create evaluation metrics"
   ]
  },
  {
   "cell_type": "code",
   "execution_count": null,
   "id": "8fc01675",
   "metadata": {},
   "outputs": [
    {
     "name": "stderr",
     "output_type": "stream",
     "text": [
      "C:\\Users\\turkf\\AppData\\Local\\Temp\\ipykernel_30412\\558511860.py:4: DeprecationWarning: The argument `dtypes` for `read_csv` is deprecated. It has been renamed to `schema_overrides`.\n",
      "  output_df = pl.read_csv(\"../data/RTVSlo/Joined_rtf_files.csv\", encoding=\"ANSI\", dtypes={\"ura\": pl.Utf8})\n"
     ]
    }
   ],
   "source": [
    "import os\n",
    "import polars as pl\n",
    "input_df = pl.read_csv(\"../data/RTVSlo/PrometnoPorocilo2022.csv\", encoding=\"ANSI\")\n",
    "output_df = pl.read_csv(\"../data/RTVSlo/Joined_rtf_files.csv\", encoding=\"ANSI\")"
   ]
  }
 ],
 "metadata": {
  "kernelspec": {
   "display_name": "venv",
   "language": "python",
   "name": "python3"
  },
  "language_info": {
   "codemirror_mode": {
    "name": "ipython",
    "version": 3
   },
   "file_extension": ".py",
   "mimetype": "text/x-python",
   "name": "python",
   "nbconvert_exporter": "python",
   "pygments_lexer": "ipython3",
   "version": "3.13.2"
  }
 },
 "nbformat": 4,
 "nbformat_minor": 5
}
