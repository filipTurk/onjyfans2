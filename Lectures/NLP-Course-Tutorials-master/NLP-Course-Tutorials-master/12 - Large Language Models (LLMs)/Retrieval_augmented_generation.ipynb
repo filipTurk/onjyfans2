{
  "cells": [
    {
      "cell_type": "markdown",
      "id": "8bf279f2-71f2-4680-ba71-14894c849d10",
      "metadata": {
        "id": "8bf279f2-71f2-4680-ba71-14894c849d10"
      },
      "source": [
        "# Retrieval Augmented Generation (RAG)\n",
        "<sup>This notebook is a part of Natural Language Processing class at the University of Ljubljana, Faculty for computer and information science. Please contact [boshko.koloski@ijs.si](mailto:boshko.koloski@ijs.si) for any comments.</sub>\n"
      ]
    },
    {
      "cell_type": "markdown",
      "id": "c7fdd4ba-5aa9-4c9a-adbd-d06e7274f41b",
      "metadata": {
        "id": "c7fdd4ba-5aa9-4c9a-adbd-d06e7274f41b"
      },
      "source": [
        "\n",
        "\n",
        "The core functionality of this notebook is to create a retrieval-augmented generation (RAG) system that enables discussion about the NLP subject setting using the `Mistral-7b-v0.2` model.\n",
        "\n",
        "General-purpose language models can be fine-tuned for common tasks such as sentiment analysis and named entity recognition, which typically do not require additional background knowledge.\n",
        "\n",
        "For more complex and knowledge-intensive tasks, it is possible to construct a language model-based system that accesses external knowledge sources. This approach enhances factual consistency, improves the reliability of responses, and mitigates the issue of 'hallucination.'\n",
        "\n",
        "Researchers have introduced the Retrieval Augmented Generation (RAG) method to address these knowledge-intensive tasks. RAG integrates an information retrieval component with a text generator model, allowing for efficient updates and modifications to its internal knowledge without retraining the entire model.\n",
        "\n",
        "RAG operates by taking an input, retrieving a set of relevant or supporting documents from a source like Wikipedia, and concatenating these documents with the original input prompt. This concatenated context is then fed to the text generator, which produces the final output. This adaptability is crucial for situations where facts may evolve over time, as the static parametric knowledge of traditional large language models (LLMs) can become outdated. RAG circumvents the need for retraining, providing access to the most current information and enabling reliable outputs through retrieval-based generation.\n",
        "\n",
        "RAG requires additional document embeddings and the storage of documents in a database for retrieval purposes.\n"
      ]
    },
    {
      "cell_type": "markdown",
      "id": "2104fbc7",
      "metadata": {
        "id": "2104fbc7"
      },
      "source": [
        "### Setup\n",
        "\n",
        "Run the cells below to setup and install the required libraries. For our experiment we will need `bitsandbytes`, `accelerate`, `transformers`, `datasets`, `sentence-transformers` and  `faiss-gpu`."
      ]
    },
    {
      "cell_type": "code",
      "execution_count": 1,
      "id": "b9bc16e8",
      "metadata": {
        "colab": {
          "base_uri": "https://localhost:8080/"
        },
        "id": "b9bc16e8",
        "outputId": "74a8a697-7c75-4f3a-f318-130f0309ebad"
      },
      "outputs": [
        {
          "output_type": "stream",
          "name": "stdout",
          "text": [
            "Requirement already satisfied: langchain in /usr/local/lib/python3.11/dist-packages (0.3.23)\n",
            "Requirement already satisfied: bitsandbytes in /usr/local/lib/python3.11/dist-packages (0.45.5)\n",
            "Requirement already satisfied: accelerate in /usr/local/lib/python3.11/dist-packages (1.5.2)\n",
            "Requirement already satisfied: sentence-transformers in /usr/local/lib/python3.11/dist-packages (3.4.1)\n",
            "Requirement already satisfied: faiss-cpu in /usr/local/lib/python3.11/dist-packages (1.10.0)\n",
            "Requirement already satisfied: langchain_community in /usr/local/lib/python3.11/dist-packages (0.3.21)\n",
            "Requirement already satisfied: unstructured in /usr/local/lib/python3.11/dist-packages (0.17.2)\n",
            "Collecting python-docx\n",
            "  Downloading python_docx-1.1.2-py3-none-any.whl.metadata (2.0 kB)\n",
            "Requirement already satisfied: langchain-core<1.0.0,>=0.3.51 in /usr/local/lib/python3.11/dist-packages (from langchain) (0.3.51)\n",
            "Requirement already satisfied: langchain-text-splitters<1.0.0,>=0.3.8 in /usr/local/lib/python3.11/dist-packages (from langchain) (0.3.8)\n",
            "Requirement already satisfied: langsmith<0.4,>=0.1.17 in /usr/local/lib/python3.11/dist-packages (from langchain) (0.3.24)\n",
            "Requirement already satisfied: pydantic<3.0.0,>=2.7.4 in /usr/local/lib/python3.11/dist-packages (from langchain) (2.11.2)\n",
            "Requirement already satisfied: SQLAlchemy<3,>=1.4 in /usr/local/lib/python3.11/dist-packages (from langchain) (2.0.40)\n",
            "Requirement already satisfied: requests<3,>=2 in /usr/local/lib/python3.11/dist-packages (from langchain) (2.32.3)\n",
            "Requirement already satisfied: PyYAML>=5.3 in /usr/local/lib/python3.11/dist-packages (from langchain) (6.0.2)\n",
            "Requirement already satisfied: torch<3,>=2.0 in /usr/local/lib/python3.11/dist-packages (from bitsandbytes) (2.6.0+cu124)\n",
            "Requirement already satisfied: numpy>=1.17 in /usr/local/lib/python3.11/dist-packages (from bitsandbytes) (2.0.2)\n",
            "Requirement already satisfied: packaging>=20.0 in /usr/local/lib/python3.11/dist-packages (from accelerate) (24.2)\n",
            "Requirement already satisfied: psutil in /usr/local/lib/python3.11/dist-packages (from accelerate) (5.9.5)\n",
            "Requirement already satisfied: huggingface-hub>=0.21.0 in /usr/local/lib/python3.11/dist-packages (from accelerate) (0.30.1)\n",
            "Requirement already satisfied: safetensors>=0.4.3 in /usr/local/lib/python3.11/dist-packages (from accelerate) (0.5.3)\n",
            "Requirement already satisfied: transformers<5.0.0,>=4.41.0 in /usr/local/lib/python3.11/dist-packages (from sentence-transformers) (4.50.3)\n",
            "Requirement already satisfied: tqdm in /usr/local/lib/python3.11/dist-packages (from sentence-transformers) (4.67.1)\n",
            "Requirement already satisfied: scikit-learn in /usr/local/lib/python3.11/dist-packages (from sentence-transformers) (1.6.1)\n",
            "Requirement already satisfied: scipy in /usr/local/lib/python3.11/dist-packages (from sentence-transformers) (1.14.1)\n",
            "Requirement already satisfied: Pillow in /usr/local/lib/python3.11/dist-packages (from sentence-transformers) (11.1.0)\n",
            "Requirement already satisfied: aiohttp<4.0.0,>=3.8.3 in /usr/local/lib/python3.11/dist-packages (from langchain_community) (3.11.15)\n",
            "Requirement already satisfied: tenacity!=8.4.0,<10,>=8.1.0 in /usr/local/lib/python3.11/dist-packages (from langchain_community) (9.1.2)\n",
            "Requirement already satisfied: dataclasses-json<0.7,>=0.5.7 in /usr/local/lib/python3.11/dist-packages (from langchain_community) (0.6.7)\n",
            "Requirement already satisfied: pydantic-settings<3.0.0,>=2.4.0 in /usr/local/lib/python3.11/dist-packages (from langchain_community) (2.8.1)\n",
            "Requirement already satisfied: httpx-sse<1.0.0,>=0.4.0 in /usr/local/lib/python3.11/dist-packages (from langchain_community) (0.4.0)\n",
            "Requirement already satisfied: chardet in /usr/local/lib/python3.11/dist-packages (from unstructured) (5.2.0)\n",
            "Requirement already satisfied: filetype in /usr/local/lib/python3.11/dist-packages (from unstructured) (1.2.0)\n",
            "Requirement already satisfied: python-magic in /usr/local/lib/python3.11/dist-packages (from unstructured) (0.4.27)\n",
            "Requirement already satisfied: lxml in /usr/local/lib/python3.11/dist-packages (from unstructured) (5.3.1)\n",
            "Requirement already satisfied: nltk in /usr/local/lib/python3.11/dist-packages (from unstructured) (3.9.1)\n",
            "Requirement already satisfied: beautifulsoup4 in /usr/local/lib/python3.11/dist-packages (from unstructured) (4.13.3)\n",
            "Requirement already satisfied: emoji in /usr/local/lib/python3.11/dist-packages (from unstructured) (2.14.1)\n",
            "Requirement already satisfied: python-iso639 in /usr/local/lib/python3.11/dist-packages (from unstructured) (2025.2.18)\n",
            "Requirement already satisfied: langdetect in /usr/local/lib/python3.11/dist-packages (from unstructured) (1.0.9)\n",
            "Requirement already satisfied: rapidfuzz in /usr/local/lib/python3.11/dist-packages (from unstructured) (3.13.0)\n",
            "Requirement already satisfied: backoff in /usr/local/lib/python3.11/dist-packages (from unstructured) (2.2.1)\n",
            "Requirement already satisfied: typing-extensions in /usr/local/lib/python3.11/dist-packages (from unstructured) (4.13.1)\n",
            "Requirement already satisfied: unstructured-client in /usr/local/lib/python3.11/dist-packages (from unstructured) (0.32.3)\n",
            "Requirement already satisfied: wrapt in /usr/local/lib/python3.11/dist-packages (from unstructured) (1.17.2)\n",
            "Requirement already satisfied: python-oxmsg in /usr/local/lib/python3.11/dist-packages (from unstructured) (0.0.2)\n",
            "Requirement already satisfied: html5lib in /usr/local/lib/python3.11/dist-packages (from unstructured) (1.1)\n",
            "Requirement already satisfied: aiohappyeyeballs>=2.3.0 in /usr/local/lib/python3.11/dist-packages (from aiohttp<4.0.0,>=3.8.3->langchain_community) (2.6.1)\n",
            "Requirement already satisfied: aiosignal>=1.1.2 in /usr/local/lib/python3.11/dist-packages (from aiohttp<4.0.0,>=3.8.3->langchain_community) (1.3.2)\n",
            "Requirement already satisfied: attrs>=17.3.0 in /usr/local/lib/python3.11/dist-packages (from aiohttp<4.0.0,>=3.8.3->langchain_community) (25.3.0)\n",
            "Requirement already satisfied: frozenlist>=1.1.1 in /usr/local/lib/python3.11/dist-packages (from aiohttp<4.0.0,>=3.8.3->langchain_community) (1.5.0)\n",
            "Requirement already satisfied: multidict<7.0,>=4.5 in /usr/local/lib/python3.11/dist-packages (from aiohttp<4.0.0,>=3.8.3->langchain_community) (6.3.2)\n",
            "Requirement already satisfied: propcache>=0.2.0 in /usr/local/lib/python3.11/dist-packages (from aiohttp<4.0.0,>=3.8.3->langchain_community) (0.3.1)\n",
            "Requirement already satisfied: yarl<2.0,>=1.17.0 in /usr/local/lib/python3.11/dist-packages (from aiohttp<4.0.0,>=3.8.3->langchain_community) (1.18.3)\n",
            "Requirement already satisfied: marshmallow<4.0.0,>=3.18.0 in /usr/local/lib/python3.11/dist-packages (from dataclasses-json<0.7,>=0.5.7->langchain_community) (3.26.1)\n",
            "Requirement already satisfied: typing-inspect<1,>=0.4.0 in /usr/local/lib/python3.11/dist-packages (from dataclasses-json<0.7,>=0.5.7->langchain_community) (0.9.0)\n",
            "Requirement already satisfied: filelock in /usr/local/lib/python3.11/dist-packages (from huggingface-hub>=0.21.0->accelerate) (3.18.0)\n",
            "Requirement already satisfied: fsspec>=2023.5.0 in /usr/local/lib/python3.11/dist-packages (from huggingface-hub>=0.21.0->accelerate) (2025.3.2)\n",
            "Requirement already satisfied: jsonpatch<2.0,>=1.33 in /usr/local/lib/python3.11/dist-packages (from langchain-core<1.0.0,>=0.3.51->langchain) (1.33)\n",
            "Requirement already satisfied: httpx<1,>=0.23.0 in /usr/local/lib/python3.11/dist-packages (from langsmith<0.4,>=0.1.17->langchain) (0.28.1)\n",
            "Requirement already satisfied: orjson<4.0.0,>=3.9.14 in /usr/local/lib/python3.11/dist-packages (from langsmith<0.4,>=0.1.17->langchain) (3.10.16)\n",
            "Requirement already satisfied: requests-toolbelt<2.0.0,>=1.0.0 in /usr/local/lib/python3.11/dist-packages (from langsmith<0.4,>=0.1.17->langchain) (1.0.0)\n",
            "Requirement already satisfied: zstandard<0.24.0,>=0.23.0 in /usr/local/lib/python3.11/dist-packages (from langsmith<0.4,>=0.1.17->langchain) (0.23.0)\n",
            "Requirement already satisfied: annotated-types>=0.6.0 in /usr/local/lib/python3.11/dist-packages (from pydantic<3.0.0,>=2.7.4->langchain) (0.7.0)\n",
            "Requirement already satisfied: pydantic-core==2.33.1 in /usr/local/lib/python3.11/dist-packages (from pydantic<3.0.0,>=2.7.4->langchain) (2.33.1)\n",
            "Requirement already satisfied: typing-inspection>=0.4.0 in /usr/local/lib/python3.11/dist-packages (from pydantic<3.0.0,>=2.7.4->langchain) (0.4.0)\n",
            "Requirement already satisfied: python-dotenv>=0.21.0 in /usr/local/lib/python3.11/dist-packages (from pydantic-settings<3.0.0,>=2.4.0->langchain_community) (1.1.0)\n",
            "Requirement already satisfied: charset-normalizer<4,>=2 in /usr/local/lib/python3.11/dist-packages (from requests<3,>=2->langchain) (3.4.1)\n",
            "Requirement already satisfied: idna<4,>=2.5 in /usr/local/lib/python3.11/dist-packages (from requests<3,>=2->langchain) (3.10)\n",
            "Requirement already satisfied: urllib3<3,>=1.21.1 in /usr/local/lib/python3.11/dist-packages (from requests<3,>=2->langchain) (2.3.0)\n",
            "Requirement already satisfied: certifi>=2017.4.17 in /usr/local/lib/python3.11/dist-packages (from requests<3,>=2->langchain) (2025.1.31)\n",
            "Requirement already satisfied: greenlet>=1 in /usr/local/lib/python3.11/dist-packages (from SQLAlchemy<3,>=1.4->langchain) (3.1.1)\n",
            "Requirement already satisfied: networkx in /usr/local/lib/python3.11/dist-packages (from torch<3,>=2.0->bitsandbytes) (3.4.2)\n",
            "Requirement already satisfied: jinja2 in /usr/local/lib/python3.11/dist-packages (from torch<3,>=2.0->bitsandbytes) (3.1.6)\n",
            "Requirement already satisfied: nvidia-cuda-nvrtc-cu12==12.4.127 in /usr/local/lib/python3.11/dist-packages (from torch<3,>=2.0->bitsandbytes) (12.4.127)\n",
            "Requirement already satisfied: nvidia-cuda-runtime-cu12==12.4.127 in /usr/local/lib/python3.11/dist-packages (from torch<3,>=2.0->bitsandbytes) (12.4.127)\n",
            "Requirement already satisfied: nvidia-cuda-cupti-cu12==12.4.127 in /usr/local/lib/python3.11/dist-packages (from torch<3,>=2.0->bitsandbytes) (12.4.127)\n",
            "Requirement already satisfied: nvidia-cudnn-cu12==9.1.0.70 in /usr/local/lib/python3.11/dist-packages (from torch<3,>=2.0->bitsandbytes) (9.1.0.70)\n",
            "Requirement already satisfied: nvidia-cublas-cu12==12.4.5.8 in /usr/local/lib/python3.11/dist-packages (from torch<3,>=2.0->bitsandbytes) (12.4.5.8)\n",
            "Requirement already satisfied: nvidia-cufft-cu12==11.2.1.3 in /usr/local/lib/python3.11/dist-packages (from torch<3,>=2.0->bitsandbytes) (11.2.1.3)\n",
            "Requirement already satisfied: nvidia-curand-cu12==10.3.5.147 in /usr/local/lib/python3.11/dist-packages (from torch<3,>=2.0->bitsandbytes) (10.3.5.147)\n",
            "Requirement already satisfied: nvidia-cusolver-cu12==11.6.1.9 in /usr/local/lib/python3.11/dist-packages (from torch<3,>=2.0->bitsandbytes) (11.6.1.9)\n",
            "Requirement already satisfied: nvidia-cusparse-cu12==12.3.1.170 in /usr/local/lib/python3.11/dist-packages (from torch<3,>=2.0->bitsandbytes) (12.3.1.170)\n",
            "Requirement already satisfied: nvidia-cusparselt-cu12==0.6.2 in /usr/local/lib/python3.11/dist-packages (from torch<3,>=2.0->bitsandbytes) (0.6.2)\n",
            "Requirement already satisfied: nvidia-nccl-cu12==2.21.5 in /usr/local/lib/python3.11/dist-packages (from torch<3,>=2.0->bitsandbytes) (2.21.5)\n",
            "Requirement already satisfied: nvidia-nvtx-cu12==12.4.127 in /usr/local/lib/python3.11/dist-packages (from torch<3,>=2.0->bitsandbytes) (12.4.127)\n",
            "Requirement already satisfied: nvidia-nvjitlink-cu12==12.4.127 in /usr/local/lib/python3.11/dist-packages (from torch<3,>=2.0->bitsandbytes) (12.4.127)\n",
            "Requirement already satisfied: triton==3.2.0 in /usr/local/lib/python3.11/dist-packages (from torch<3,>=2.0->bitsandbytes) (3.2.0)\n",
            "Requirement already satisfied: sympy==1.13.1 in /usr/local/lib/python3.11/dist-packages (from torch<3,>=2.0->bitsandbytes) (1.13.1)\n",
            "Requirement already satisfied: mpmath<1.4,>=1.1.0 in /usr/local/lib/python3.11/dist-packages (from sympy==1.13.1->torch<3,>=2.0->bitsandbytes) (1.3.0)\n",
            "Requirement already satisfied: regex!=2019.12.17 in /usr/local/lib/python3.11/dist-packages (from transformers<5.0.0,>=4.41.0->sentence-transformers) (2024.11.6)\n",
            "Requirement already satisfied: tokenizers<0.22,>=0.21 in /usr/local/lib/python3.11/dist-packages (from transformers<5.0.0,>=4.41.0->sentence-transformers) (0.21.1)\n",
            "Requirement already satisfied: soupsieve>1.2 in /usr/local/lib/python3.11/dist-packages (from beautifulsoup4->unstructured) (2.6)\n",
            "Requirement already satisfied: six>=1.9 in /usr/local/lib/python3.11/dist-packages (from html5lib->unstructured) (1.17.0)\n",
            "Requirement already satisfied: webencodings in /usr/local/lib/python3.11/dist-packages (from html5lib->unstructured) (0.5.1)\n",
            "Requirement already satisfied: click in /usr/local/lib/python3.11/dist-packages (from nltk->unstructured) (8.1.8)\n",
            "Requirement already satisfied: joblib in /usr/local/lib/python3.11/dist-packages (from nltk->unstructured) (1.4.2)\n",
            "Requirement already satisfied: olefile in /usr/local/lib/python3.11/dist-packages (from python-oxmsg->unstructured) (0.47)\n",
            "Requirement already satisfied: threadpoolctl>=3.1.0 in /usr/local/lib/python3.11/dist-packages (from scikit-learn->sentence-transformers) (3.6.0)\n",
            "Requirement already satisfied: aiofiles>=24.1.0 in /usr/local/lib/python3.11/dist-packages (from unstructured-client->unstructured) (24.1.0)\n",
            "Requirement already satisfied: cryptography>=3.1 in /usr/local/lib/python3.11/dist-packages (from unstructured-client->unstructured) (43.0.3)\n",
            "Requirement already satisfied: eval-type-backport>=0.2.0 in /usr/local/lib/python3.11/dist-packages (from unstructured-client->unstructured) (0.2.2)\n",
            "Requirement already satisfied: nest-asyncio>=1.6.0 in /usr/local/lib/python3.11/dist-packages (from unstructured-client->unstructured) (1.6.0)\n",
            "Requirement already satisfied: pypdf>=4.0 in /usr/local/lib/python3.11/dist-packages (from unstructured-client->unstructured) (5.4.0)\n",
            "Requirement already satisfied: python-dateutil>=2.8.2 in /usr/local/lib/python3.11/dist-packages (from unstructured-client->unstructured) (2.8.2)\n",
            "Requirement already satisfied: cffi>=1.12 in /usr/local/lib/python3.11/dist-packages (from cryptography>=3.1->unstructured-client->unstructured) (1.17.1)\n",
            "Requirement already satisfied: anyio in /usr/local/lib/python3.11/dist-packages (from httpx<1,>=0.23.0->langsmith<0.4,>=0.1.17->langchain) (4.9.0)\n",
            "Requirement already satisfied: httpcore==1.* in /usr/local/lib/python3.11/dist-packages (from httpx<1,>=0.23.0->langsmith<0.4,>=0.1.17->langchain) (1.0.7)\n",
            "Requirement already satisfied: h11<0.15,>=0.13 in /usr/local/lib/python3.11/dist-packages (from httpcore==1.*->httpx<1,>=0.23.0->langsmith<0.4,>=0.1.17->langchain) (0.14.0)\n",
            "Requirement already satisfied: jsonpointer>=1.9 in /usr/local/lib/python3.11/dist-packages (from jsonpatch<2.0,>=1.33->langchain-core<1.0.0,>=0.3.51->langchain) (3.0.0)\n",
            "Requirement already satisfied: mypy-extensions>=0.3.0 in /usr/local/lib/python3.11/dist-packages (from typing-inspect<1,>=0.4.0->dataclasses-json<0.7,>=0.5.7->langchain_community) (1.0.0)\n",
            "Requirement already satisfied: MarkupSafe>=2.0 in /usr/local/lib/python3.11/dist-packages (from jinja2->torch<3,>=2.0->bitsandbytes) (3.0.2)\n",
            "Requirement already satisfied: pycparser in /usr/local/lib/python3.11/dist-packages (from cffi>=1.12->cryptography>=3.1->unstructured-client->unstructured) (2.22)\n",
            "Requirement already satisfied: sniffio>=1.1 in /usr/local/lib/python3.11/dist-packages (from anyio->httpx<1,>=0.23.0->langsmith<0.4,>=0.1.17->langchain) (1.3.1)\n",
            "Downloading python_docx-1.1.2-py3-none-any.whl (244 kB)\n",
            "\u001b[2K   \u001b[90m━━━━━━━━━━━━━━━━━━━━━━━━━━━━━━━━━━━━━━━━\u001b[0m \u001b[32m244.3/244.3 kB\u001b[0m \u001b[31m4.8 MB/s\u001b[0m eta \u001b[36m0:00:00\u001b[0m\n",
            "\u001b[?25hInstalling collected packages: python-docx\n",
            "Successfully installed python-docx-1.1.2\n"
          ]
        }
      ],
      "source": [
        "!pip install langchain bitsandbytes accelerate sentence-transformers faiss-cpu langchain_community unstructured python-docx"
      ]
    },
    {
      "cell_type": "markdown",
      "id": "8061fa90-36fd-48e3-8460-2b69b8b03a23",
      "metadata": {
        "id": "8061fa90-36fd-48e3-8460-2b69b8b03a23"
      },
      "source": [
        "**In simple terms, RAG is to LLMs what an open-book exam is to humans.**\n",
        "\n",
        "The concept of an open-book exam centers around assessing a student's reasoning abilities rather than their capacity to memorize specific details. In a similar vein, RAG separates factual knowledge from the LLM’s reasoning capabilities. This factual information is stored in an external knowledge source, which is both easily accessible and updatable:\n",
        "\n",
        "- **Parametric knowledge:** Knowledge that is learned during training and implicitly stored within the neural network's weights.\n",
        "- **Non-parametric knowledge:** Information that is stored externally, for example, in a vector database.\n",
        "e."
      ]
    },
    {
      "cell_type": "markdown",
      "id": "adc1d1e4-3749-4d44-81c7-281503a853fd",
      "metadata": {
        "id": "adc1d1e4-3749-4d44-81c7-281503a853fd"
      },
      "source": [
        "![RAG](RAG.jpg)"
      ]
    },
    {
      "cell_type": "markdown",
      "id": "dadd1539-a012-4a27-bbcd-751c0e92bede",
      "metadata": {
        "id": "dadd1539-a012-4a27-bbcd-751c0e92bede"
      },
      "source": [
        "The RAG workflow consists of:\n",
        "\n",
        "1. **The Retrieve**: The user query is used to retrieve relevant context from an external knowledge source. For this, the user query is embedded using an embedding model into the same vector space as the additional context in the vector database. This enables a similarity search, and the top k closest data objects from the vector database are returned.\n",
        "2. **Augment**: The user query and the retrieved additional context are incorporated into a prompt template.\n",
        "3. **Generate**: Finally, the retrieval-augmented prompt is fed to the LLM.\n",
        "\n",
        "We will use the `langchain` framework to efficiently prompt the LLMs and prepare the RAG.\n"
      ]
    },
    {
      "cell_type": "code",
      "execution_count": 2,
      "id": "704f0052-e986-4137-a6f1-21b1c467268c",
      "metadata": {
        "id": "704f0052-e986-4137-a6f1-21b1c467268c"
      },
      "outputs": [],
      "source": [
        "import os\n",
        "import tempfile\n",
        "from pathlib import Path\n",
        "import joblib\n",
        "import requests\n",
        "import torch\n",
        "import transformers"
      ]
    },
    {
      "cell_type": "code",
      "execution_count": 3,
      "id": "06a663ef-a480-43c1-9906-c0ff4d888007",
      "metadata": {
        "id": "06a663ef-a480-43c1-9906-c0ff4d888007"
      },
      "outputs": [],
      "source": [
        "from IPython.display import display_markdown\n",
        "from langchain.chains.conversational_retrieval.base import ConversationalRetrievalChain\n",
        "from langchain.prompts import PromptTemplate\n",
        "from langchain.text_splitter import RecursiveCharacterTextSplitter, HTMLHeaderTextSplitter, TokenTextSplitter\n",
        "from langchain_community.document_loaders import BSHTMLLoader\n",
        "from langchain_community.embeddings.huggingface import HuggingFaceEmbeddings\n",
        "from langchain_community.llms.huggingface_pipeline import HuggingFacePipeline\n",
        "from langchain_community.vectorstores.faiss import FAISS"
      ]
    },
    {
      "cell_type": "code",
      "execution_count": 4,
      "id": "7d5d3a4f-1ada-4b5e-96ab-58accfe72919",
      "metadata": {
        "id": "7d5d3a4f-1ada-4b5e-96ab-58accfe72919"
      },
      "outputs": [],
      "source": [
        "LLM_MODEL = \"mistralai/Mistral-7B-Instruct-v0.2\"\n",
        "device = f\"cuda:{torch.cuda.current_device()}\""
      ]
    },
    {
      "cell_type": "markdown",
      "id": "869ed6e0-43dd-4d3e-9e46-087866f7b41a",
      "metadata": {
        "id": "869ed6e0-43dd-4d3e-9e46-087866f7b41a"
      },
      "source": [
        "Large Language Models are known for their significant computational demands. Typically, the size of a model is determined by multiplying the number of parameters (size) by the precision of these values (data type). To conserve memory, weights can be stored using lower-precision data types through a process known as quantization.\n",
        "\n",
        "**Post-Training Quantization (PTQ)** is a straightforward technique where the weights of an already trained model are converted to a lower precision without necessitating any retraining. Although easy to implement, PTQ can lead to potential performance degradation.We will employ PTQ using the `bitsandbytes` library and will load the model in 4-bit precision, applying double quantization with the `nf4` data type. For more information about quantization, visit [this guide on quantization](https://huggingface.co/docs/optimum/en/concept_guides/quantization) )pe.\n"
      ]
    },
    {
      "cell_type": "code",
      "execution_count": 5,
      "id": "7069ae24-e43e-43b5-887b-07d40e56161f",
      "metadata": {
        "id": "7069ae24-e43e-43b5-887b-07d40e56161f"
      },
      "outputs": [],
      "source": [
        "bnb_config = transformers.BitsAndBytesConfig(\n",
        "    load_in_4bit=True, # loading in 4 bit\n",
        "    bnb_4bit_quant_type=\"nf4\", # quantization type\n",
        "    bnb_4bit_use_double_quant=True, # nested quantization\n",
        "    bnb_4bit_compute_dtype=torch.bfloat16,\n",
        ")"
      ]
    },
    {
      "cell_type": "code",
      "source": [
        "!huggingface-cli login"
      ],
      "metadata": {
        "colab": {
          "base_uri": "https://localhost:8080/"
        },
        "id": "7PcHQRmSsRO2",
        "outputId": "eeb134e2-39cc-4990-bad7-74b852c4fb09"
      },
      "id": "7PcHQRmSsRO2",
      "execution_count": 6,
      "outputs": [
        {
          "output_type": "stream",
          "name": "stdout",
          "text": [
            "\n",
            "    _|    _|  _|    _|    _|_|_|    _|_|_|  _|_|_|  _|      _|    _|_|_|      _|_|_|_|    _|_|      _|_|_|  _|_|_|_|\n",
            "    _|    _|  _|    _|  _|        _|          _|    _|_|    _|  _|            _|        _|    _|  _|        _|\n",
            "    _|_|_|_|  _|    _|  _|  _|_|  _|  _|_|    _|    _|  _|  _|  _|  _|_|      _|_|_|    _|_|_|_|  _|        _|_|_|\n",
            "    _|    _|  _|    _|  _|    _|  _|    _|    _|    _|    _|_|  _|    _|      _|        _|    _|  _|        _|\n",
            "    _|    _|    _|_|      _|_|_|    _|_|_|  _|_|_|  _|      _|    _|_|_|      _|        _|    _|    _|_|_|  _|_|_|_|\n",
            "\n",
            "    A token is already saved on your machine. Run `huggingface-cli whoami` to get more information or `huggingface-cli logout` if you want to log out.\n",
            "    Setting a new token will erase the existing one.\n",
            "    To log in, `huggingface_hub` requires a token generated from https://huggingface.co/settings/tokens .\n",
            "Enter your token (input will not be visible): \n",
            "Add token as git credential? (Y/n) y\n",
            "Token is valid (permission: read).\n",
            "The token `myhftoken` has been saved to /root/.cache/huggingface/stored_tokens\n",
            "\u001b[1m\u001b[31mCannot authenticate through git-credential as no helper is defined on your machine.\n",
            "You might have to re-authenticate when pushing to the Hugging Face Hub.\n",
            "Run the following command in your terminal in case you want to set the 'store' credential helper as default.\n",
            "\n",
            "git config --global credential.helper store\n",
            "\n",
            "Read https://git-scm.com/book/en/v2/Git-Tools-Credential-Storage for more details.\u001b[0m\n",
            "Token has not been saved to git credential helper.\n",
            "Your token has been saved to /root/.cache/huggingface/token\n",
            "Login successful.\n",
            "The current active token is: `myhftoken`\n"
          ]
        }
      ]
    },
    {
      "cell_type": "code",
      "execution_count": 7,
      "id": "334f05f8-7dd1-4b04-a37b-89b41717bb15",
      "metadata": {
        "colab": {
          "base_uri": "https://localhost:8080/",
          "height": 604,
          "referenced_widgets": [
            "e33e7ceff6e942df9e6cea0270c0b2b2",
            "62898c578fc54ca6996c1dc74be15ad9",
            "76dac92078e74b12a8d38527a8369acb",
            "36042acd80ec4804a9396a69db64820c",
            "16793b1557dd42598acf5df018f029ca",
            "a3df8004294c41eabbd8954a7b8ba8fd",
            "dc41cc0f49374d27955be33ece1d4532",
            "c204a58d85934023940648c4d736a7d6",
            "04c4186181e74445835d74274dbebee9",
            "fcb6d7031f69424f922518e6203e1543",
            "a01f72420fea410d9f3e66f4f436ee63"
          ]
        },
        "id": "334f05f8-7dd1-4b04-a37b-89b41717bb15",
        "outputId": "66d80a66-63b1-44f5-d36b-56736a95c3f9"
      },
      "outputs": [
        {
          "output_type": "stream",
          "name": "stderr",
          "text": [
            "/usr/local/lib/python3.11/dist-packages/huggingface_hub/utils/_auth.py:94: UserWarning: \n",
            "The secret `HF_TOKEN` does not exist in your Colab secrets.\n",
            "To authenticate with the Hugging Face Hub, create a token in your settings tab (https://huggingface.co/settings/tokens), set it as secret in your Google Colab and restart your session.\n",
            "You will be able to reuse this secret in all of your notebooks.\n",
            "Please note that authentication is recommended but still optional to access public models or datasets.\n",
            "  warnings.warn(\n"
          ]
        },
        {
          "output_type": "display_data",
          "data": {
            "text/plain": [
              "Loading checkpoint shards:   0%|          | 0/3 [00:00<?, ?it/s]"
            ],
            "application/vnd.jupyter.widget-view+json": {
              "version_major": 2,
              "version_minor": 0,
              "model_id": "e33e7ceff6e942df9e6cea0270c0b2b2"
            }
          },
          "metadata": {}
        },
        {
          "output_type": "execute_result",
          "data": {
            "text/plain": [
              "MistralForCausalLM(\n",
              "  (model): MistralModel(\n",
              "    (embed_tokens): Embedding(32000, 4096)\n",
              "    (layers): ModuleList(\n",
              "      (0-31): 32 x MistralDecoderLayer(\n",
              "        (self_attn): MistralAttention(\n",
              "          (q_proj): Linear4bit(in_features=4096, out_features=4096, bias=False)\n",
              "          (k_proj): Linear4bit(in_features=4096, out_features=1024, bias=False)\n",
              "          (v_proj): Linear4bit(in_features=4096, out_features=1024, bias=False)\n",
              "          (o_proj): Linear4bit(in_features=4096, out_features=4096, bias=False)\n",
              "        )\n",
              "        (mlp): MistralMLP(\n",
              "          (gate_proj): Linear4bit(in_features=4096, out_features=14336, bias=False)\n",
              "          (up_proj): Linear4bit(in_features=4096, out_features=14336, bias=False)\n",
              "          (down_proj): Linear4bit(in_features=14336, out_features=4096, bias=False)\n",
              "          (act_fn): SiLU()\n",
              "        )\n",
              "        (input_layernorm): MistralRMSNorm((4096,), eps=1e-05)\n",
              "        (post_attention_layernorm): MistralRMSNorm((4096,), eps=1e-05)\n",
              "      )\n",
              "    )\n",
              "    (norm): MistralRMSNorm((4096,), eps=1e-05)\n",
              "    (rotary_emb): MistralRotaryEmbedding()\n",
              "  )\n",
              "  (lm_head): Linear(in_features=4096, out_features=32000, bias=False)\n",
              ")"
            ]
          },
          "metadata": {},
          "execution_count": 7
        }
      ],
      "source": [
        "model_config = transformers.AutoConfig.from_pretrained(\n",
        "    pretrained_model_name_or_path=LLM_MODEL,\n",
        ")\n",
        "model = transformers.AutoModelForCausalLM.from_pretrained(\n",
        "    pretrained_model_name_or_path=LLM_MODEL,\n",
        "    config=model_config,\n",
        "    quantization_config=bnb_config, # we introduce the bnb config here.\n",
        "    device_map=\"auto\",\n",
        ")\n",
        "model.eval()"
      ]
    },
    {
      "cell_type": "markdown",
      "id": "b13ecb1a-35f1-4055-a7c0-4245f33cb1ba",
      "metadata": {
        "id": "b13ecb1a-35f1-4055-a7c0-4245f33cb1ba"
      },
      "source": [
        "We also need to load the tokenizer to transform the text as before."
      ]
    },
    {
      "cell_type": "code",
      "execution_count": 8,
      "id": "4d430782-e450-46fa-a23f-940bfd20ae64",
      "metadata": {
        "id": "4d430782-e450-46fa-a23f-940bfd20ae64"
      },
      "outputs": [],
      "source": [
        "tokenizer = transformers.AutoTokenizer.from_pretrained(\n",
        "    pretrained_model_name_or_path=LLM_MODEL,\n",
        ")\n",
        "tokenizer.pad_token = tokenizer.eos_token\n",
        "tokenizer.padding_side = \"right\""
      ]
    },
    {
      "cell_type": "markdown",
      "id": "495b09a3-5dab-4ef0-803d-6d53e759f7eb",
      "metadata": {
        "id": "495b09a3-5dab-4ef0-803d-6d53e759f7eb"
      },
      "source": [
        "We will use pipelines from Hugging Face to perform the prompting and generation with the Mistral model.\n"
      ]
    },
    {
      "cell_type": "code",
      "execution_count": 9,
      "id": "6bfdcad8-a706-4510-8d19-7c7b22a7c503",
      "metadata": {
        "colab": {
          "base_uri": "https://localhost:8080/"
        },
        "id": "6bfdcad8-a706-4510-8d19-7c7b22a7c503",
        "outputId": "6fa62a03-182f-4388-bc9e-6fc79ea1825f"
      },
      "outputs": [
        {
          "output_type": "stream",
          "name": "stderr",
          "text": [
            "Device set to use cuda:0\n"
          ]
        }
      ],
      "source": [
        "generate_text = transformers.pipeline(\n",
        "    task=\"text-generation\",\n",
        "    model=model,\n",
        "    tokenizer=tokenizer,\n",
        "    return_full_text=True,\n",
        "    #temperature=0.0,\n",
        "    max_new_tokens=8192,\n",
        "    repetition_penalty=1.1,\n",
        ")"
      ]
    },
    {
      "cell_type": "markdown",
      "id": "36ff346e-ff4f-4974-bcb6-4616dcee0457",
      "metadata": {
        "id": "36ff346e-ff4f-4974-bcb6-4616dcee0457"
      },
      "source": [
        "We will use `langchain` to link the HuggingFace models and the chaining prompting."
      ]
    },
    {
      "cell_type": "code",
      "execution_count": 10,
      "id": "bae41ae7-74c4-4189-832f-615e297dddd4",
      "metadata": {
        "colab": {
          "base_uri": "https://localhost:8080/"
        },
        "id": "bae41ae7-74c4-4189-832f-615e297dddd4",
        "outputId": "264ec673-4ac4-4f7e-99dd-802b055166f6"
      },
      "outputs": [
        {
          "output_type": "stream",
          "name": "stderr",
          "text": [
            "<ipython-input-10-5175b212113e>:1: LangChainDeprecationWarning: The class `HuggingFacePipeline` was deprecated in LangChain 0.0.37 and will be removed in 1.0. An updated version of the class exists in the :class:`~langchain-huggingface package and should be used instead. To use it run `pip install -U :class:`~langchain-huggingface` and import as `from :class:`~langchain_huggingface import HuggingFacePipeline``.\n",
            "  llm = HuggingFacePipeline(pipeline=generate_text)\n"
          ]
        }
      ],
      "source": [
        "llm = HuggingFacePipeline(pipeline=generate_text)"
      ]
    },
    {
      "cell_type": "markdown",
      "id": "ff6f3c3d-83f8-4ced-bf5b-a0321d01ee56",
      "metadata": {
        "id": "ff6f3c3d-83f8-4ced-bf5b-a0321d01ee56"
      },
      "source": [
        "The core functionality of `langchain` is the creation of templates for prompting via `PromptTemplate`."
      ]
    },
    {
      "cell_type": "code",
      "execution_count": 11,
      "id": "cf6211f7-591a-4d70-84c5-d99e0c71db64",
      "metadata": {
        "id": "cf6211f7-591a-4d70-84c5-d99e0c71db64"
      },
      "outputs": [],
      "source": [
        "from langchain_core.prompts import PromptTemplate"
      ]
    },
    {
      "cell_type": "code",
      "execution_count": 12,
      "id": "04195f4e-34e2-47d2-b070-552f369601dc",
      "metadata": {
        "id": "04195f4e-34e2-47d2-b070-552f369601dc"
      },
      "outputs": [],
      "source": [
        "template = \"\"\"\n",
        "You are a helpful AI QA assistant. When answering questions, use the context enclosed by triple backquotes if it is relevant.\n",
        "If you don't know the answer, just say that you don't know, don't try to make up an answer.\n",
        "Reply your answer in markdown format.\n",
        "Question: {question}\n",
        "Answer:\"\"\"\n",
        "prompt = PromptTemplate.from_template(template)"
      ]
    },
    {
      "cell_type": "code",
      "execution_count": 13,
      "id": "d2b5c3cf-edde-4a9c-a792-61f70abda7b6",
      "metadata": {
        "colab": {
          "base_uri": "https://localhost:8080/"
        },
        "id": "d2b5c3cf-edde-4a9c-a792-61f70abda7b6",
        "outputId": "633c2ae6-ebd8-4b40-bb28-81f2853ed6a1"
      },
      "outputs": [
        {
          "output_type": "execute_result",
          "data": {
            "text/plain": [
              "PromptTemplate(input_variables=['question'], input_types={}, partial_variables={}, template=\"\\nYou are a helpful AI QA assistant. When answering questions, use the context enclosed by triple backquotes if it is relevant.\\nIf you don't know the answer, just say that you don't know, don't try to make up an answer.\\nReply your answer in markdown format.\\nQuestion: {question}\\nAnswer:\")"
            ]
          },
          "metadata": {},
          "execution_count": 13
        }
      ],
      "source": [
        "prompt"
      ]
    },
    {
      "cell_type": "code",
      "execution_count": 14,
      "id": "02a7815e-ba89-4ef2-be72-57b49d75c4bd",
      "metadata": {
        "id": "02a7815e-ba89-4ef2-be72-57b49d75c4bd"
      },
      "outputs": [],
      "source": [
        "chain = prompt | llm"
      ]
    },
    {
      "cell_type": "code",
      "execution_count": 15,
      "id": "22874416-27d4-4091-ad4b-882fbdcdf439",
      "metadata": {
        "colab": {
          "base_uri": "https://localhost:8080/"
        },
        "id": "22874416-27d4-4091-ad4b-882fbdcdf439",
        "outputId": "87296e5a-4c46-415e-e080-dbeb9d37d1c1"
      },
      "outputs": [
        {
          "output_type": "execute_result",
          "data": {
            "text/plain": [
              "PromptTemplate(input_variables=['question'], input_types={}, partial_variables={}, template=\"\\nYou are a helpful AI QA assistant. When answering questions, use the context enclosed by triple backquotes if it is relevant.\\nIf you don't know the answer, just say that you don't know, don't try to make up an answer.\\nReply your answer in markdown format.\\nQuestion: {question}\\nAnswer:\")\n",
              "| HuggingFacePipeline(pipeline=<transformers.pipelines.text_generation.TextGenerationPipeline object at 0x7c2a10c27ad0>)"
            ]
          },
          "metadata": {},
          "execution_count": 15
        }
      ],
      "source": [
        "chain"
      ]
    },
    {
      "cell_type": "code",
      "execution_count": 16,
      "id": "dbd75d76-7344-4b83-bc29-8593574d33fd",
      "metadata": {
        "id": "dbd75d76-7344-4b83-bc29-8593574d33fd"
      },
      "outputs": [],
      "source": [
        "question = \"What is the scoring criteria of the NLP course?\""
      ]
    },
    {
      "cell_type": "code",
      "execution_count": 17,
      "id": "7f18199a-f5ba-446d-9113-e3d334683f0a",
      "metadata": {
        "colab": {
          "base_uri": "https://localhost:8080/"
        },
        "id": "7f18199a-f5ba-446d-9113-e3d334683f0a",
        "outputId": "13eed2df-f583-4cd8-f025-f2496d0c69d5"
      },
      "outputs": [
        {
          "output_type": "stream",
          "name": "stdout",
          "text": [
            "\n",
            "You are a helpful AI QA assistant. When answering questions, use the context enclosed by triple backquotes if it is relevant.\n",
            "If you don't know the answer, just say that you don't know, don't try to make up an answer.\n",
            "Reply your answer in markdown format.\n",
            "Question: What is the scoring criteria of the NLP course?\n",
            "Answer: I'd be happy to help you with that! However, without specific context regarding which NLP (Natural Language Processing) course you're referring to, I can only provide some general information about common scoring criteria used in NLP courses.\n",
            "Here are some common assessment areas for NLP projects and assignments:\n",
            "- **Accuracy**: This measures how often the model or algorithm produces correct results.\n",
            "- **Precision**: This measures the proportion of true positives among the total number of positive predictions made by the model.\n",
            "- **Recall**: This measures the proportion of true positives among all actual positive instances in the data.\n",
            "- **F1 Score**: This is the harmonic mean of precision and recall, providing a balanced measure of both.\n",
            "- **Perplexity**: This measures how well a language model predicts a given text. Lower perplexity scores indicate better performance.\n",
            "- **BLEU (Bilingual Evaluation Understudy) score**: This is commonly used for evaluating machine translation systems. It compares the generated output to a reference sentence using n-gram precision.\n",
            "- **ROUGE (Recall-Oriented Understudy for Gisting Evaluation) score**: This measures the overlap between the generated summary and the reference summary using n-grams.\n",
            "Please let me know if you have more specific information about the NLP course you're asking about, so I can give you a more accurate answer.\n"
          ]
        }
      ],
      "source": [
        "print(chain.invoke({\"question\": question}))"
      ]
    },
    {
      "cell_type": "code",
      "execution_count": 18,
      "id": "9162f422-94de-42de-afca-e277cb8b41c0",
      "metadata": {
        "id": "9162f422-94de-42de-afca-e277cb8b41c0"
      },
      "outputs": [],
      "source": [
        "question = \"What do I have to do for the peer review?\""
      ]
    },
    {
      "cell_type": "code",
      "execution_count": 19,
      "id": "f3c76908-05dd-473a-a889-884938fca642",
      "metadata": {
        "colab": {
          "base_uri": "https://localhost:8080/"
        },
        "id": "f3c76908-05dd-473a-a889-884938fca642",
        "outputId": "3c1a3d22-73d1-4616-fa5b-9f6aa7145553"
      },
      "outputs": [
        {
          "output_type": "stream",
          "name": "stdout",
          "text": [
            "\n",
            "You are a helpful AI QA assistant. When answering questions, use the context enclosed by triple backquotes if it is relevant.\n",
            "If you don't know the answer, just say that you don't know, don't try to make up an answer.\n",
            "Reply your answer in markdown format.\n",
            "Question: What do I have to do for the peer review?\n",
            "Answer: To prepare for a peer review, you should first read and understand the document or code thoroughly. Identify any issues or areas for improvement, and write down your thoughts and suggestions. During the review process, be respectful and constructive in your feedback. Use specific examples and clear language to explain your reasoning. Remember, the goal is to help improve the work and provide valuable insights.\n"
          ]
        }
      ],
      "source": [
        "print(chain.invoke({\"question\": question}))"
      ]
    },
    {
      "cell_type": "markdown",
      "id": "e1959f42",
      "metadata": {
        "id": "e1959f42"
      },
      "source": [
        "**NOTE**: The model provides responses that are fairly general. We plan to enhance this by integrating contextual details from our course materials via **RAG**."
      ]
    },
    {
      "cell_type": "markdown",
      "id": "b0d73c41-884f-40b9-9f55-21b7fcaa3f42",
      "metadata": {
        "id": "b0d73c41-884f-40b9-9f55-21b7fcaa3f42"
      },
      "source": [
        "### Enter RAG\n",
        "\n",
        "Next, we will define the vector embeddings of our context. We will use the `sentence-transformers/all-mpnet-base-v2` model to embed the documents and a FAISS vector store to store and later retrieve them. LangChain offers the `HuggingFaceEmbeddings` interface to easily load any model from Hugging Face to serve as the document representation.\n"
      ]
    },
    {
      "cell_type": "code",
      "execution_count": 20,
      "id": "0e016460-7ed3-4a94-8514-81e564fe98aa",
      "metadata": {
        "id": "0e016460-7ed3-4a94-8514-81e564fe98aa"
      },
      "outputs": [],
      "source": [
        "EMBED_MODEL = \"sentence-transformers/all-mpnet-base-v2\""
      ]
    },
    {
      "cell_type": "code",
      "execution_count": 21,
      "id": "4c206ebb-4c2e-41e8-b898-682f3250f90f",
      "metadata": {
        "colab": {
          "base_uri": "https://localhost:8080/"
        },
        "id": "4c206ebb-4c2e-41e8-b898-682f3250f90f",
        "outputId": "f44fc962-8e9c-4584-b9d5-8327aad62fcb"
      },
      "outputs": [
        {
          "output_type": "stream",
          "name": "stderr",
          "text": [
            "<ipython-input-21-ccf1fffc4142>:1: LangChainDeprecationWarning: The class `HuggingFaceEmbeddings` was deprecated in LangChain 0.2.2 and will be removed in 1.0. An updated version of the class exists in the :class:`~langchain-huggingface package and should be used instead. To use it run `pip install -U :class:`~langchain-huggingface` and import as `from :class:`~langchain_huggingface import HuggingFaceEmbeddings``.\n",
            "  embedding = HuggingFaceEmbeddings(\n"
          ]
        }
      ],
      "source": [
        "embedding = HuggingFaceEmbeddings(\n",
        "    model_name=EMBED_MODEL,\n",
        "    model_kwargs={\"device\": \"cuda\"},\n",
        ")"
      ]
    },
    {
      "cell_type": "code",
      "source": [
        "def fetch_websites(sites: list[str]):\n",
        "    docs = []\n",
        "    with tempfile.TemporaryDirectory() as tmpdir:\n",
        "        filename = f\"{tmpdir}/site.html\"\n",
        "        for site in sites:\n",
        "            res = requests.get(site)\n",
        "            with open(filename, mode=\"wb\") as fp:\n",
        "                fp.write(res.content)\n",
        "            docs.extend(BSHTMLLoader(filename, open_encoding = 'utf8').load())\n",
        "    return docs"
      ],
      "metadata": {
        "id": "1sdutvFMyUKD"
      },
      "id": "1sdutvFMyUKD",
      "execution_count": 32,
      "outputs": []
    },
    {
      "cell_type": "code",
      "source": [
        "course_webpage = \"https://docs.google.com/document/d/e/2PACX-1vRwReAm5Vz_aiNyZN33eTz22fqMJhM0H-KtJdXthUw5cean_WYdBkZgJchP_s9th0rtUW0ikZZ_Fh5l/pub\""
      ],
      "metadata": {
        "id": "bnrtePE_yUXo"
      },
      "id": "bnrtePE_yUXo",
      "execution_count": 33,
      "outputs": []
    },
    {
      "cell_type": "markdown",
      "id": "141fb5d9-fe7a-4057-b916-e86ba3eaa026",
      "metadata": {
        "id": "141fb5d9-fe7a-4057-b916-e86ba3eaa026"
      },
      "source": [
        "The `fetch_websites` function will be used to scrape data from our Google Document.\n"
      ]
    },
    {
      "cell_type": "code",
      "execution_count": 34,
      "id": "b006dada-9e2f-4418-b466-08478d1aaf84",
      "metadata": {
        "id": "b006dada-9e2f-4418-b466-08478d1aaf84"
      },
      "outputs": [],
      "source": [
        "docs = fetch_websites([course_webpage])"
      ]
    },
    {
      "cell_type": "code",
      "execution_count": 35,
      "id": "931c49f1-2543-49cb-9bc6-84b28993b24b",
      "metadata": {
        "colab": {
          "base_uri": "https://localhost:8080/"
        },
        "id": "931c49f1-2543-49cb-9bc6-84b28993b24b",
        "outputId": "5c79b929-f899-477e-89cc-d7bbe4b2d9e8"
      },
      "outputs": [
        {
          "output_type": "execute_result",
          "data": {
            "text/plain": [
              "Document(metadata={'source': '/tmp/tmpntspgd2l/site.html', 'title': 'Natural language processing 2025'}, page_content='Natural language processing 2025Published using Google DocsReport abuseLearn moreNatural language processing 2025Updated automatically every 5 minutesLaboratory work - Spring 2025The main goal of laboratory work is to present the most important aspects of data science in practice and to teach you how to use key tools for a NLP engineer. We especially emphasize on self-paced work, raising standards related to development, replicability, reporting, research, visualizing, etc. Our goal is not to provide exact instructions or \"make robots\" out of participants of this course. Participants will need to try to navigate themselves among data, identify promising leads and extract as much information as possible from the data to present to the others (colleagues, instructors, companies or their superiors).Important linksLab sessions course repository\\xa0(continuously updated, use weekly plan links for latest materials)Project report templateBooks and other materials\\xa0\\xa0\\xa0\\xa0\\xa0\\xa0\\xa0\\xa0Speech and language processing\\xa0(online draft)\\xa0\\xa0\\xa0\\xa0\\xa0\\xa0\\xa0\\xa0Python 3 Text Processing with NLTK 3 CookbookIntroduction to Data Science Handbook\\xa0 Razvoj slovenščine v digitalnem okolju\\xa0(February 2023)Previous years NLP course materials NLP course 2024 project reports\\xa0\\xa0\\xa0\\xa0\\xa0\\xa0\\xa0\\xa0MarksPeer review\\xa0\\xa0\\xa0\\xa0\\xa0\\xa0\\xa0\\xa0TBA\\xa0\\xa0\\xa0\\xa0\\xa0\\xa0\\xa0\\xa0* Check Marks spreadsheet (sheet \"Projects to review\") to get list of repositories you need to review.\\xa0\\xa0\\xa0\\xa0\\xa0\\xa0\\xa0\\xa0Weekly planThis plan is regularly updated. \\xa0Lab sessions\\xa0are meant to discuss materials and your project ideas. Those proficient in some of the topics covered during the course are expected to help other students during the lab work or in online discussions. Such contributions will also be taken into account. During the lab sessions we will show some DEMOs based on which you will work on your projects. Based on your proposals / new ideas we can adapt the weekly plan and prepare additional materials. All the lab session tutorials will be regularly updated in the Github repository. During the lab sessions we will briefly present each week\\'s topic and then mostly discuss your project ideas and work. You are expected to check/run notebooks before the lab sessions and then ask questions/discuss during the lab sessions. In the repository\\'s README you can also find the recordings of each topic.WeekDescriptionMaterials and links17.2. - 21.2./24.2. - 28.2.Lab work introductionProjects overview Group work and projects application procedureBasic text processingSlovene text processing3.3. - 7.3.Text clusteringText classification\\xa0Language models, knowledge basesProjects sign up form\\xa0(deadline Friday midnight).Github classroom assignment\\xa0(deadline Friday midnight, only one group member creates a team, exactly three members for a group!). Use GROUP ID\\xa0from the projects sign up form as a team name.10.3. - 14.3.Neural networks introduction (TensorFlow, Keras)Word embeddings & visualizations (offensive language)RNNs vs. GRUs vs. LSTMs + examplesMultiple simple NN architectures example (Google Colab)Wednesday’s lab session at 5pm cancelled due to https://hackathon.si. You are invited to join!17.3. - 21.3.Introduction to PyTorchPyTorch LightningSLING tutorial (setup, Singularity, SLURM)First submission (Friday, 23:59)24.3. - 28.3.First submission defense (in person)No lab session on Wednesday 9am. Please attend other sessions.March 25: NVIDIA Day at UL FRI (more info)31.3. - 4.4.Transformers, BERT (custom task)BERT (tagging)\\xa0 KeyBERT (keyword extraction), TopicBERT (topic modeling)\\xa07.4. - 11.4.Generative and conversational AI14.4. - 18.4.Prompting and efficiently Fine-Tuning a Large Language ModelRetrieval Augmented Generation (RAG)ARNES & SDI hackathon\\xa0in Portorož. You can get up to additional 10%\\xa0for lab grade if you attend.21.4. - 25.4.(Mon. holiday)Graph neural networks for text processing28.4. - 2.5.(Thu., Fri. holiday)No lab sessionsSecond submission (Friday, 23:59)5.5. - 9.5.Second submission defense (in person)12.5. - 16.5.Consultations/Project work/Discussions(Please attend the lab sessions and discuss your work and ideas!)19.5. - 23.5.Project work/Online discussionsFinal submission deadline (Friday, 23:59)\\xa0 \\xa0 \\xa0 IMPORTANT: Put your repositories visibility to public before the deadline or shortly after!Peer review submission deadline (TBD)\\xa0 \\xa0 \\xa0 Peer review link (each group will get an email with repositories to review)!26.5. - 30.5.No organized lab sessions this weekFinal project presentations (TBD)Course obligationsPlease regularly check Weekly plan\\xa0and course announcements for possible changes. You are expected to attend the sessions but you must\\xa0attend the defense sessions. At the assignment defense dates at least one member of a group must be present, otherwise all need to provide their doctor’s justification. At the last assignment all members must be present and also need to understand all parts of the submitted solution.All the work must be submitted using your Github project repository. Submission deadlines are indicated in the table above. Submission defenses will be held during the lab sessions.Students must work in groups of three members! There can exist only one group of two members per project type. The distribution of work between members should be seen by commits within the repository.ObligationDescriptionFinal grade relevanceSubmission 1Project selection & simple corpus analysis\\xa0 - Group (three members) selection\\xa0 - Report containing Introduction, existing solutions/related work and initial ideas\\xa0 - Proposed project dataset/corpus/data/... \\xa0 - Well organized repositoryPassSubmission 2Initial implementation / baseline with results\\xa0 - Updated Submission 1 parts\\xa0 - Implemented at least one solution with analysis\\xa0 - Future directions and ideas\\xa0 - Well organized repositoryPassSubmission 3Final solution and report\\xa0 - Final report incl. analyses and discussions\\xa0 - Fully reproducible repository80%Peer reviewEvaluate your peer group\\'s work\\xa0 - Each group will check final submissions of two other peer groups having the same topic20%Total: 100%Grading criteriaAll the graded work is group work. All the work is graded following the scoring schema below. To successfully pass the laboratory work, you need to pass Submission 1 and 2, and gain 50% total from each of Submission 3 and Peer review. Use PUBLIC GROUP ID for public communication regarding your group. GROUP ID is your internal id of a group for which marks will be publicly available. ScoringScoring is done relative to achievements of all the participants in the course. Instructions will define the criteria the participants need to address and exactly fulfilling the instructions will result in score 8. All the other scores will be relative to the quality of the submitted work. The role of instructors is to find an appropriate clustering of all the works into 6 clusters. To better illustrate the scoring, schema will be as follows:10 - exceptional: Extraordinary results, quality of work or extremely well structured and justified report. There might still be some very minor possibilities for improvement.Repository is clear and runnable. Report is well organized, results are discussed, visualizations are added value to the text and well prepared. Apart from minimum criteria the group tried multiple of their novel ideas to approach the problem.9 - very good: Above average knowledge presentation with some errors. Same as above - it can be visible that a group had novel ideas but they got out of time or did not finish (polish) everything. The submission has multiple minor flaws.8 - good: Submission of solid work, mainly addressing given instructions only.Group implemented everything suggested by the minimum criteria but not investigated further (not found much related work, did not apply multiple other techniques, ...). 7 - superficial: Below average knowledge and submission of work with errors that show partial understanding.Group implemented everything suggested by the minimum criteria but did not discuss results well, performed simple analyses only, ... Also the report is not well organized, and lacks data for reproducibility.6 - sufficient: Minimum criteria addressed with some major errors and drawbacks.Group was trying to implement minimum criteria (or part only) but their work has many minor flaws or a few major ones. The report also reflects their motivation.5 - insufficient: \\xa0Too much lack of knowledge, too many major errors or no work-effort could be drawn from the submitted work.The group did not address one or more points of the minimum criteria and the report contains major flaws. It can be seen that the group did not invest enough time into the work.Final project preparation guidelines and peer review instructionsSome major remarks that you should keep in mind out are the following regarding final submission:Comment on all the specifics of your algorithms that you use or have designed (i.e. features, hyperparameters, ...). In some cases it is useful to include an image instead of providing long descriptions. When you include graphs/images, they must be readable and provide additional insight (e.g. if there are lots of lines across the image or little space between them, it is not okay). When you report on results, keep them as much as possible in one table, so that a reader can compare different configurations. Also, it is useful to bold the best results. Both images and tables should be self-contained - i.e., together with the caption they need to provide enough information to the reader to understand it\\'s meaning without reading text around.Keep your report concise and try to not submit a report longer than 4 pages + references + appendices. Also, make sure you follow the proposed template.Focus on reporting results and using sensible measures. Try to find examples where your algorithm works better and may not even work at all. Explain why and also justify the differences in approaches that you used. In case previous work exists for your dataset, put the best results of other researchers in your results table (even if your results are much lower).Your submitted work (repository and report) should be structured in a way that your colleagues would be able to understand and re-run everything. Include all dependencies for you projects:In case you have used a non-public (or semi-public) dataset, do not include it in the repository, just put your contact data or protected link to download data/provide other instructions to retrieve data.Datasets that are available elsewhere should be just linked in your report/repository. If you performed additional transformations on datasets, scripts for that should be available in the repository.Some of you used models that take longer to train. You can include those models (maybe just the best one) in the repository or elsewhere and link it. Lastly, check that your repositories are publicly available before the peer review period starts! IMPORTANT:Include links to all dependencies/corpora or include them in the repository, so that anyone can check your work. Also include annotated data (if you manually prepared a corpus) or trained models (if training takes a long time).For anyone that will review your work, it must be as simple as possible to run your code.Peer review instructions:Please find the projects you need to review (see link above).Each group needs to review projects of the same topic they have chosen. Submit your peer review scores in the Google Form (see link above).You will get a score also for your grading, depending on how much (of course by some margin) your grading will be different from the assistant\\'s grading. Follow the scoring criteria as presented above and include feedback to your mark.Final project presentation instructionsEach group will have max. 3 minutes (STRICT)\\xa0to present their project. I will put your report to the projector and you will present it along with your report. I propose that you focus on specific interesting part that you will present (e.g., table, graph, figure, ...). The most important aspect to present is:\\xa0\\xa0\\xa0\\xa0\\xa0\\xa0\\xa0\\xa0What is the \"take-away message\" of your work? This should be concrete and concise, so that anyone can understand (also a completely lay person).See timetable above for time slots of your presentation. If you cannot attend, please write to me to get an alternative time slot.Specific projects informationProject 1: Conversational Agent with Retrieval-Augmented Generation (Aleš): Develop a conversational agent that enhances the quality and accuracy of its responses by dynamically retrieving and integrating relevant external documents from the web. Unlike traditional chatbots that rely solely on pre-trained knowledge, this system will perform real-time information retrieval, ensuring up-to-date answers. Potential applications include customer support, academic research assistance, and general knowledge queries. The project will involve natural language processing (NLP), web scraping, and retrieval-augmented generation (RAG) techniques to optimize answer quality.Proposed methodology:Literature review: Survey current approaches to Retrieval-Augmented Generation (RAG) and its applications in conversational systems.Propose a relevant application and relevant datasets for training and evaluation.Implement a pipeline for real-time information retrieval from external sources (e.g., Wikipedia, news articles, or academic papers), develop a conversational agent that incorporates retrieved information into responses using pre-trained models, experiment with prompt engineering techniques to improve coherence and factual accuracy of generated responses.Evaluate response quality automatically using BLEU, ROUGE, and also human evaluation metrics such as coherence, informativeness, and factual consistency.Prepare a final report with insights on how retrieval-augmented conversational agents can enhance answer quality in real-world applications.References:Gao, Y. et al. (2024) Retrieval-augmented generation for large language models: A survey, arXiv.org. Available at: https://arxiv.org/abs/2312.10997\\xa0 (Accessed: 17 February 2025).Chen, J., Lin, H., Han, X., & Sun, L. (2024). Benchmarking Large Language Models in Retrieval-Augmented Generation. Proceedings of the AAAI Conference on Artificial Intelligence, 38(16), 17754-17762. https://doi.org/10.1609/aaai.v38i16.29728\\xa0Project 2: Multilingual classification and organization of instruction-tuning examples (Aleš): Students will develop a multilingual classifier to categorize instruction-tuning examples into pre-defined categories. The project involves training deep learning models on datasets such as DBpedia and other relevant sources with a goal to produce balanced instruction-following capabilities in AI systems and detect their weak areas (domains) as well. The classifier should effectively distinguish different instruction types and improve dataset organization to support instruction-tuned LLMs. Proposed methodology:Literature review: Conduct a survey of current approaches to text classification, focusing on instruction-tuning datasets and their categorization. Review different strategies for creation of instruction tuning datasets (see Čibej and Touron et al. references).Identify and acquire relevant datasets. In this step, the main objective is to find relevant datasets that will help to organize and find weaknesses of the Slovene instruction-following dataset (http://hdl.handle.net/11356/1971). \\xa0Students should compare the Slovene dataset with existing English datasets, and find which areas are less covered or missing in the Slovene version (type of instruction, domains, etc.). Fine-tune pre-trained models on the selected datasets, optimizing for multi-label classification. Generate new instruction-tuning samples for less-covered areas. Assess model performance using appropriate classification metrics. Evaluate manually generated instruction-tuned samples using appropriate metrics. Provide insights on improving instruction dataset classification for AI models and prepare a final project report.References:Zhang, Shengyu et al. (2024) Instruction tuning for large language models: A survey, arXiv.org. Available at: https://arxiv.org/abs/2308.10792\\xa0 (Accessed: 17 February 2025).Vreš, Domen; et al., 2024, Slovene instruction-following dataset for large language models GaMS-Instruct-GEN 1.0, Slovenian language resource repository CLARIN.SI, ISSN 2820-4042, http://hdl.handle.net/11356/1971.Čibej, J., 2024. First Steps Toward the Compilation of a Safety Dataset for Slovene Large Language Models. Conference on Language Technologies and Digital Humanities (JT-DH-2024), Ljubljana, Slovenia.\\xa0https://doi.org/10.5281/zenodo.13936388Touvron, H., Martin, L., Stone, K., Albert, P., Almahairi, A., Babaei, Y., ... & Scialom, T. (2023). Llama 2: Open foundation and fine-tuned chat models. https://arxiv.org/abs/2307.09288. Project 3: Improving prompt sensitivity of LLMs (Aleš): This project aims to experiment with techniques to reduce the sensitivity of large language models (LLMs) to variations in user prompts. Often, minor changes in phrasing can lead to significantly different responses, affecting consistency and reliability. Students will explore methods such as prompt paraphrasing, fine-tuning with slightly altered prompts to make LLM outputs more stable across semantically similar queries. The project will involve generating diverse paraphrases of prompts, analyzing model behavior, and fine-tuning responses to enhance reliability. This research is crucial for improving LLM usability in real-world applications, ensuring more consistent and predictable answers. Proposed methodology:Literature review: Review techniques used in prompt engineering, adversarial robustness, and controlled text generation.Select a dataset: Identify and curate datasets with diverse prompt variations, slightly altered prompts, etc. Implement and test various techniques for overcoming prompt sensitivity: paraphrase generation techniques, etc.Conduct human evaluation and measure response consistency using automated metrics.Prepare report and analyze results to determine which techniques most effectively reduce prompt sensitivity.References:Mizrahi, M. et al. (2024) State of what art? A call for multi-prompt LLM Evaluation, ACL Anthology. Available at: https://aclanthology.org/2024.tacl-1.52/\\xa0 \\xa0Cao, B. et al. (2024) On the worst prompt performance of large language models, arXiv.org. Available at: https://arxiv.org/abs/2406.10248\\xa0 Chatterjee, A. et al. (2024) POSIX: A prompt sensitivity index for large language models, ACL Anthology. Available at: https://aclanthology.org/2024.findings-emnlp.852/ (Accessed: 17 February 2025).Project 4: Answer Generation with Lexical Knowledge Retrieval (Also suitable for for students of digital linguistics, Slavko): The goal of this project is to enhance a Slovene large language model\\'s ability to answer lexicographic questions by utilizing structured information from Slovene lexicographic databases. The project will be implemented as a Retrieval-Augmented Generation (RAG) pipeline and will include an evaluation of the model\\'s performance with and without additional structured information.Proposed methodology:Literature Review: Conduct a comprehensive review of relevant academic literature on RAG models and their applications in lexicographic question-answering.Lexical Database Selection: Identify and select appropriate Slovene lexicographic databases that will serve as the source of structured knowledge.Definition of Lexical Tasks for Testing: Define a set of lexicographic tasks that will be used to evaluate the model’s performance. These tasks should reflect real-world lexical queries.Manual Creation of a Small Test Dataset: Construct a small but diverse test dataset to be used for initial evaluation of the model’s capabilities.Creation of the Knowledge Retrieval System: Develop a system for retrieving relevant information from the selected lexical databases to support the RAG pipeline.Integration of Structured Information into the Model: Implement the integration of retrieved structured information into the Slovene large language model.Evaluation of the RAG Pipeline: Assess the model’s performance using appropriate evaluation metrics, comparing results with and without structured lexical information.Recommended LiteratureFan, W., Ding, Y., Ning, L., Wang, S., Li, H., Yin, D., Chua, T.S., & Li, Q. (2024). \"A Survey on RAG Meeting LLMs: Towards Retrieval-Augmented Large Language Models.\" Proceedings of the 30th ACM SIGKDD Conference on Knowledge Discovery and Data Mining, pp. 6491-6501.Chouhan, A., & Gertz, M. (2024). \"LexDrafter: Terminology Drafting for Legislative Documents Using Retrieval Augmented Generation.\" Proceedings of the 2024 Joint International Conference on Computational Linguistics, Language Resources and Evaluation (LREC-COLING 2024), pp. 10448-10458.Beguš G., Dąbkowski M., Rhodes R. (2023): \"Large Linguistic Models: Investigating LLMs\\' metalinguistic abilities.\" https://arxiv.org/abs/2305.00948\\xa0Project 5: Integrating Structured Knowledge into Large Language Models (Slavko): This project aims to explore advanced techniques for integrating structured knowledge in the form of knowledge graphs into large language models (LLMs). The objective is to evaluate different methods for incorporating knowledge graphs to improve the model\\'s ability to answer complex questions accurately.MethodologyLiterature Review: Conduct a thorough review of existing research on the integration of knowledge graphs into LLMs.Creation of an Evaluation Set: Construct a small evaluation dataset consisting of questions paired with corresponding knowledge graphs. These graphs will contain hints that should assist the model in generating correct answers.Selection of Integration Techniques: Identify and develop multiple techniques for injecting knowledge graphs into the model, such as:Direct input augmentation: Graph embedding-based integrationAttention-based fusion techniquesImplementation of Knowledge Graph InjectionImplement the selected techniques and integrate knowledge graphs into the LLM.Evaluation and Performance Analysis: Assess the effectiveness of each technique by measuring improvements in model performance, using appropriate evaluation metrics such as accuracy, precision, recall, and F1-score.Recommended LiteratureTang, Jiabin, et al. \"Graphgpt: Graph instruction tuning for large language models.\" Proceedings of the 47th International ACM SIGIR Conference on Research and Development in Information Retrieval. 2024.Kau, A., He, X., Nambissan, A., Astudillo, A., Yin, H., & Aryani, A. (2024). \"Combining Knowledge Graphs and Large Language Models.\" arXiv preprint arXiv:2407.06564.Yasunaga, Michihiro, et al. \"Deep bidirectional language-knowledge graph pretraining.\" Advances in Neural Information Processing Systems\\xa035 (2022), pp. 37309-37323.Plenz, Moritz, and Anette Frank. \"Graph Language Models.\" arXiv preprint arXiv:2401.07105\\xa0(2024).Project 6: Automatic generation of Slovenian traffic news for RTV Slovenija (Slavko): This project aims to use an existing LLM, »fine-tune« it, leverage prompt engineering techniques to generate short traffic reports. You are given Excel data from promet.si portal and your goal is to generate regular and important traffic news that are read by the radio presenters at RTV Slovenija. You also need to take into account guidelines and instructions to form the news. Currently, they hire students to manually check and type reports that are read every 30 minutes.MethodologyLiterature Review: Conduct a thorough review of existing research and select appropriate LLMs for the task. Review and prepare an exploratory report on the data provided.Initial solution: Try to solve the task initially only by using prompt engineering techniques.Evaulation definition: Define (semi-)automatic evaluation criteria and implement it. Take the following into account: identification of important news, correct roads namings, correct filtering, text lengths and words, ...LLM (Parameter-efficient) fine-tuning: Improve an existing LLM to perform the task automatically. Provide an interface to do an interactive test.Evaluation and Performance Analysis: Assess the effectiveness of each technique by measuring improvements in model performance, using appropriate automatic (P, R, F1) and human evaluation metrics.Recommended LiteratureLab session materialsRTV Slo data: LINK\\xa0(zip format). The data consists of:Promet.si input resources (Podatki - PrometnoPorocilo_2022_2023_2024.xlsx).RTV Slo news texts to be read through the radio stations (Podatki - rtvslo.si).Additional instructions for the students that manually type news texts (PROMET, osnove.docx, PROMET.docx).Project 7: Analysis and comparison of translation errors and biases in LLMs (For students of digital linguistics only, Aleš): This project focuses on analyzing and comparing translation errors and biases in large language models (LLMs). Students will evaluate how different models handle translations, identifying common errors such as mistranslations, omissions, and cultural misinterpretations. Additionally, the project will explore biases that emerge in translations, including gender, regional, and political biases. By systematically comparing multiple LLMs, students will assess translation quality using both automated metrics and human evaluations. The findings will help improve fairness and accuracy in AI-driven translation systems.Proposed methodology:Literature review: Conduct a survey of research on translation errors and biases in large language models (LLMs).Define a problem and select an appropriate dataset. Problems should be specific: Examine bias-related issues, such as gender bias in pronoun translation, political bias in news articles.Choose one open-source and one closed-source model. Experiment with various prompt techniques related to your project goal. Develop and perform qualitative analysis of translation errors and biases. Prepare a final report with detailed observations, qualitative analysis, and practical suggestions for future improvements. \\xa0References:Roberto Navigli, Simone Conia, and Björn Ross. 2023. Biases in Large Language Models: Origins, Inventory, and Discussion. J. Data and Information Quality 15, 2, Article 10 (June 2023). https://doi.org/10.1145/3597307Barclay, P. J., & Sami, A. (2024). Investigating Markers and Drivers of Gender Bias in Machine Translations. arXiv.Org, abs/2403.11896. https://doi.org/10.48550/arxiv.2403.11896')"
            ]
          },
          "metadata": {},
          "execution_count": 35
        }
      ],
      "source": [
        "docs[0]"
      ]
    },
    {
      "cell_type": "markdown",
      "id": "31c164d4-a858-47b6-a654-9b02385b1f62",
      "metadata": {
        "id": "31c164d4-a858-47b6-a654-9b02385b1f62"
      },
      "source": [
        "We loaded the entire course into a single document. Since the sentence transformer can handle only limited sections of text, this might be problematic. Next, we will use the `RecursiveCharacterTextSplitter` to split the document into chunks with a `chunk_size` of 1000 characters and a `chunk_overlap` of 20.\n"
      ]
    },
    {
      "cell_type": "code",
      "execution_count": 36,
      "id": "9d47f26e-fa28-4601-8375-df7dc7a512c7",
      "metadata": {
        "id": "9d47f26e-fa28-4601-8375-df7dc7a512c7"
      },
      "outputs": [],
      "source": [
        "text_splitter = RecursiveCharacterTextSplitter(chunk_size=1000, chunk_overlap=20)\n",
        "all_splits = text_splitter.split_documents(docs)"
      ]
    },
    {
      "cell_type": "markdown",
      "id": "673b17cb-c0fb-4c81-ae7e-531ff18b9553",
      "metadata": {
        "id": "673b17cb-c0fb-4c81-ae7e-531ff18b9553"
      },
      "source": [
        "Let's see what the chunked document looks like.\n"
      ]
    },
    {
      "cell_type": "code",
      "execution_count": 37,
      "id": "6a877fcf-dfec-4bd5-9d03-2bd81a901c6e",
      "metadata": {
        "colab": {
          "base_uri": "https://localhost:8080/"
        },
        "id": "6a877fcf-dfec-4bd5-9d03-2bd81a901c6e",
        "outputId": "4596696a-81f3-487c-b513-0441ab7ff0f5"
      },
      "outputs": [
        {
          "output_type": "execute_result",
          "data": {
            "text/plain": [
              "Document(metadata={'source': '/tmp/tmpntspgd2l/site.html', 'title': 'Natural language processing 2025'}, page_content='Natural language processing 2025Published using Google DocsReport abuseLearn moreNatural language processing 2025Updated automatically every 5 minutesLaboratory work - Spring 2025The main goal of laboratory work is to present the most important aspects of data science in practice and to teach you how to use key tools for a NLP engineer. We especially emphasize on self-paced work, raising standards related to development, replicability, reporting, research, visualizing, etc. Our goal is not to provide exact instructions or \"make robots\" out of participants of this course. Participants will need to try to navigate themselves among data, identify promising leads and extract as much information as possible from the data to present to the others (colleagues, instructors, companies or their superiors).Important linksLab sessions course repository\\xa0(continuously updated, use weekly plan links for latest materials)Project report templateBooks and other materials\\xa0\\xa0\\xa0\\xa0\\xa0\\xa0\\xa0\\xa0Speech and language')"
            ]
          },
          "metadata": {},
          "execution_count": 37
        }
      ],
      "source": [
        "all_splits[0]"
      ]
    },
    {
      "cell_type": "code",
      "execution_count": 38,
      "id": "7c134359-0c58-4699-aa5d-5612d1bf41ea",
      "metadata": {
        "colab": {
          "base_uri": "https://localhost:8080/"
        },
        "id": "7c134359-0c58-4699-aa5d-5612d1bf41ea",
        "outputId": "61817970-6d86-4898-8eba-54c87d57e38f"
      },
      "outputs": [
        {
          "output_type": "execute_result",
          "data": {
            "text/plain": [
              "Document(metadata={'source': '/tmp/tmpntspgd2l/site.html', 'title': 'Natural language processing 2025'}, page_content='and language processing\\xa0(online draft)\\xa0\\xa0\\xa0\\xa0\\xa0\\xa0\\xa0\\xa0Python 3 Text Processing with NLTK 3 CookbookIntroduction to Data Science Handbook\\xa0 Razvoj slovenščine v digitalnem okolju\\xa0(February 2023)Previous years NLP course materials NLP course 2024 project reports\\xa0\\xa0\\xa0\\xa0\\xa0\\xa0\\xa0\\xa0MarksPeer review\\xa0\\xa0\\xa0\\xa0\\xa0\\xa0\\xa0\\xa0TBA\\xa0\\xa0\\xa0\\xa0\\xa0\\xa0\\xa0\\xa0* Check Marks spreadsheet (sheet \"Projects to review\") to get list of repositories you need to review.\\xa0\\xa0\\xa0\\xa0\\xa0\\xa0\\xa0\\xa0Weekly planThis plan is regularly updated. \\xa0Lab sessions\\xa0are meant to discuss materials and your project ideas. Those proficient in some of the topics covered during the course are expected to help other students during the lab work or in online discussions. Such contributions will also be taken into account. During the lab sessions we will show some DEMOs based on which you will work on your projects. Based on your proposals / new ideas we can adapt the weekly plan and prepare additional materials. All the lab session tutorials will be regularly updated in the Github repository. During')"
            ]
          },
          "metadata": {},
          "execution_count": 38
        }
      ],
      "source": [
        "all_splits[1]"
      ]
    },
    {
      "cell_type": "code",
      "execution_count": 39,
      "id": "97975fe4-00ed-4746-8fcb-cdcf0b964add",
      "metadata": {
        "colab": {
          "base_uri": "https://localhost:8080/"
        },
        "id": "97975fe4-00ed-4746-8fcb-cdcf0b964add",
        "outputId": "d5198e13-0574-45c2-e44e-e927150269d8"
      },
      "outputs": [
        {
          "output_type": "execute_result",
          "data": {
            "text/plain": [
              "Document(metadata={'source': '/tmp/tmpntspgd2l/site.html', 'title': 'Natural language processing 2025'}, page_content=\"repository. During the lab sessions we will briefly present each week's topic and then mostly discuss your project ideas and work. You are expected to check/run notebooks before the lab sessions and then ask questions/discuss during the lab sessions. In the repository's README you can also find the recordings of each topic.WeekDescriptionMaterials and links17.2. - 21.2./24.2. - 28.2.Lab work introductionProjects overview Group work and projects application procedureBasic text processingSlovene text processing3.3. - 7.3.Text clusteringText classification\\xa0Language models, knowledge basesProjects sign up form\\xa0(deadline Friday midnight).Github classroom assignment\\xa0(deadline Friday midnight, only one group member creates a team, exactly three members for a group!). Use GROUP ID\\xa0from the projects sign up form as a team name.10.3. - 14.3.Neural networks introduction (TensorFlow, Keras)Word embeddings & visualizations (offensive language)RNNs vs. GRUs vs. LSTMs + examplesMultiple simple NN\")"
            ]
          },
          "metadata": {},
          "execution_count": 39
        }
      ],
      "source": [
        "all_splits[2]"
      ]
    },
    {
      "cell_type": "markdown",
      "id": "4546820e-b743-4b05-8b4c-9ad5cd2bd5b7",
      "metadata": {
        "id": "4546820e-b743-4b05-8b4c-9ad5cd2bd5b7"
      },
      "source": [
        "Next, we initialize a vector store. A vector store is a data structure that functions as a vector database, where each document is stored based on its own embedding. We will use the `FAISS` library for this purpose.\n"
      ]
    },
    {
      "cell_type": "code",
      "execution_count": 40,
      "id": "81a9a4a9-befe-4ae9-bedd-b3bd6920c52f",
      "metadata": {
        "id": "81a9a4a9-befe-4ae9-bedd-b3bd6920c52f"
      },
      "outputs": [],
      "source": [
        "vectorstore = FAISS.from_documents(all_splits, embedding)"
      ]
    },
    {
      "cell_type": "markdown",
      "id": "d7e28bd9-6637-46c4-b588-64089bcb2221",
      "metadata": {
        "id": "d7e28bd9-6637-46c4-b588-64089bcb2221"
      },
      "source": [
        "Finally, we define a retriever—an object that will handle the **retrieving** part of the RAG pipeline. The retriever receives as arguments the metric by which we search the space and the number of the k-nearest documents (chunks in our case) that we retrieve to present to the studen\n"
      ]
    },
    {
      "cell_type": "code",
      "execution_count": 41,
      "id": "313eff06-8b69-4083-9524-844076bb05ea",
      "metadata": {
        "id": "313eff06-8b69-4083-9524-844076bb05ea"
      },
      "outputs": [],
      "source": [
        "retreiver = vectorstore.as_retriever(\n",
        "    search_type=\"similarity\",\n",
        "    k=10,\n",
        ")"
      ]
    },
    {
      "cell_type": "markdown",
      "id": "f8eaef53-6338-402a-8ea6-fe67ec722232",
      "metadata": {
        "id": "f8eaef53-6338-402a-8ea6-fe67ec722232"
      },
      "source": [
        "Next, we modify our prompt template so that it now receives the context (the documents selected by the RAG system) and then generates the answer.\n"
      ]
    },
    {
      "cell_type": "code",
      "execution_count": 42,
      "id": "e077d706-5c3a-4703-a419-e2629125ba38",
      "metadata": {
        "id": "e077d706-5c3a-4703-a419-e2629125ba38"
      },
      "outputs": [],
      "source": [
        "PROMPT_TEMPLATE = \"\"\"\n",
        "You are a helpful AI QA assistant. When answering questions, use the context enclosed by triple backquotes if it is relevant.\n",
        "If you don't know the answer, just say that you don't know, don't try to make up an answer.\n",
        "Reply your answer in markdown format.\n",
        "\n",
        "```\n",
        "{context}\n",
        "```\n",
        "\n",
        "### Question:\n",
        "{question}\n",
        "\n",
        "### Answer:\n",
        "\"\"\"\n",
        "\n",
        "prompt_template = PromptTemplate(\n",
        "    input_variables=[\"context\", \"question\"],\n",
        "    template=PROMPT_TEMPLATE.strip(),\n",
        ")"
      ]
    },
    {
      "cell_type": "markdown",
      "id": "4a2b3b2f-c78b-494f-9eab-3316df5fc06d",
      "metadata": {
        "id": "4a2b3b2f-c78b-494f-9eab-3316df5fc06d"
      },
      "source": [
        "With the prompt defined, we next set up the `ConversationalRetrievalChain` that will utilize the defined `retriever` and `llm`, following the `PROMPT_TEMPLATE` to extract documents.\n"
      ]
    },
    {
      "cell_type": "code",
      "execution_count": 43,
      "id": "ebca475f-aeb5-4aab-bfdf-37ce4ff53c39",
      "metadata": {
        "id": "ebca475f-aeb5-4aab-bfdf-37ce4ff53c39"
      },
      "outputs": [],
      "source": [
        "# Construct complete LLM chain\n",
        "llm_chain = ConversationalRetrievalChain.from_llm(\n",
        "    llm=llm,\n",
        "    retriever=retreiver,\n",
        "    return_source_documents=False,\n",
        "    combine_docs_chain_kwargs={\"prompt\": prompt_template},\n",
        "    verbose=False,\n",
        ")"
      ]
    },
    {
      "cell_type": "markdown",
      "id": "15111aca-e3ed-4bab-8101-d3b52f227d2c",
      "metadata": {
        "id": "15111aca-e3ed-4bab-8101-d3b52f227d2c"
      },
      "source": [
        "Finally, we create the `answer_question` function that will handle the chain invocation for us.\n"
      ]
    },
    {
      "cell_type": "code",
      "execution_count": 44,
      "id": "b14fab39-6383-4212-8e69-79085829efc9",
      "metadata": {
        "id": "b14fab39-6383-4212-8e69-79085829efc9"
      },
      "outputs": [],
      "source": [
        "def answer_question(question: str, history: dict[str] = None) -> str:\n",
        "    if history is None:\n",
        "        history = []\n",
        "\n",
        "    response = llm_chain.invoke({\"question\": question, \"chat_history\": history})\n",
        "    answer = response[\"answer\"].split(\"### Answer:\")[-1].strip()\n",
        "    return answer"
      ]
    },
    {
      "cell_type": "code",
      "execution_count": 45,
      "id": "8f94ee3a-836d-41db-9b50-0a9024ac186a",
      "metadata": {
        "colab": {
          "base_uri": "https://localhost:8080/",
          "height": 196
        },
        "id": "8f94ee3a-836d-41db-9b50-0a9024ac186a",
        "outputId": "22df5b15-5d11-4a84-9d5b-803fda438364"
      },
      "outputs": [
        {
          "output_type": "display_data",
          "data": {
            "text/markdown": "To participate in the peer review process, follow these steps:\n\n1. Find the projects you need to review based on the provided link.\n2. Review projects of the same topic as your group.\n3. Submit your peer review scores in the Google Form.\n4. Provide feedback to your marks.\n\nRemember, your grading will also be evaluated during the peer review process, and your score will depend on how much your grading differs from the assistant's grading, following the given scoring criteria. Make sure to include links to all dependencies/corpora or include them in the repository, and ensure that anyone can easily run the code for the reviewed projects."
          },
          "metadata": {}
        }
      ],
      "source": [
        "question = \"What do I have to do for the peer review?\"\n",
        "display_markdown(answer_question(question), raw=True)"
      ]
    },
    {
      "cell_type": "code",
      "execution_count": 55,
      "id": "78a5a6bd-9d6d-4497-b32e-7a5e85e4e5ab",
      "metadata": {
        "colab": {
          "base_uri": "https://localhost:8080/",
          "height": 81
        },
        "id": "78a5a6bd-9d6d-4497-b32e-7a5e85e4e5ab",
        "outputId": "ecce47af-fccd-465e-9601-c5dd2bbf693d"
      },
      "outputs": [
        {
          "output_type": "display_data",
          "data": {
            "text/markdown": "The first project is called \"Conversational Agent with Retrieval-Augmented Generation\". Its goal is to develop a conversational agent that enhances the quality and accuracy of its responses by dynamically retrieving and integrating relevant external documents from the web. Unlike traditional chatbots that rely solely on pre-trained knowledge, this system will perform real-time information retrieval, ensuring up-to-date answers."
          },
          "metadata": {}
        }
      ],
      "source": [
        "question = \"What is the first project about?\"\n",
        "display_markdown(answer_question(question), raw=True)"
      ]
    },
    {
      "cell_type": "code",
      "execution_count": 50,
      "id": "024b5e55-6617-4add-9ad0-720c768f8f61",
      "metadata": {
        "colab": {
          "base_uri": "https://localhost:8080/",
          "height": 81
        },
        "id": "024b5e55-6617-4add-9ad0-720c768f8f61",
        "outputId": "2874c208-078a-4ec1-c08d-95c3207889af"
      },
      "outputs": [
        {
          "output_type": "display_data",
          "data": {
            "text/markdown": "To achieve a good grade, you need to pass Submission 1 and 2, and gain 50% total from each of Submission 3 and Peer review. Make sure your work fulfills the instructions and is publicly available on GitHub before the deadlines. Additionally, attend the lab sessions and discussions, and provide clear and constructive feedback during peer review."
          },
          "metadata": {}
        }
      ],
      "source": [
        "question = \"What do you have to do for a good grade?\"\n",
        "display_markdown(answer_question(question), raw=True)"
      ]
    },
    {
      "cell_type": "code",
      "execution_count": 56,
      "id": "f751776d-1eb6-4ab9-87eb-eab46eb9c4b6",
      "metadata": {
        "colab": {
          "base_uri": "https://localhost:8080/",
          "height": 98
        },
        "id": "f751776d-1eb6-4ab9-87eb-eab46eb9c4b6",
        "outputId": "e78fa575-d4ea-4670-b972-3a7cb353ab13"
      },
      "outputs": [
        {
          "output_type": "display_data",
          "data": {
            "text/markdown": "The projects for digital linguistics students are about analyzing and comparing translation errors and biases in large language models (LLMs). Students will evaluate how different models handle translations, identifying common errors such as mistranslations, omissions, and cultural misinterpretations. Additionally, the project will explore biases that emerge in translations, including gender, regional, and political biases. By systematically comparing multiple LLMs, students will assess translation quality using both automated metrics and human evaluations. The findings will help improve fairness and accuracy in AI-driven translation systems."
          },
          "metadata": {}
        }
      ],
      "source": [
        "question = \"What is the project intended for digital linguistics about?\"\n",
        "display_markdown(answer_question(question), raw=True)"
      ]
    },
    {
      "cell_type": "markdown",
      "id": "b6ddb62b-8fe1-43c5-bced-48ff09441765",
      "metadata": {
        "id": "b6ddb62b-8fe1-43c5-bced-48ff09441765"
      },
      "source": [
        "With the introduction of RAG, the `Mistral` model was able to successfully answer questions about the NLP course.\n",
        "\n",
        "**Exercises:**\n",
        "* Implement a data loader script that can load documents from a folder.\n"
      ]
    }
  ],
  "metadata": {
    "kernelspec": {
      "display_name": "Python 3",
      "name": "python3"
    },
    "language_info": {
      "codemirror_mode": {
        "name": "ipython",
        "version": 3
      },
      "file_extension": ".py",
      "mimetype": "text/x-python",
      "name": "python",
      "nbconvert_exporter": "python",
      "pygments_lexer": "ipython3",
      "version": "3.10.12"
    },
    "colab": {
      "provenance": [],
      "gpuType": "T4"
    },
    "accelerator": "GPU",
    "widgets": {
      "application/vnd.jupyter.widget-state+json": {
        "e33e7ceff6e942df9e6cea0270c0b2b2": {
          "model_module": "@jupyter-widgets/controls",
          "model_name": "HBoxModel",
          "model_module_version": "1.5.0",
          "state": {
            "_dom_classes": [],
            "_model_module": "@jupyter-widgets/controls",
            "_model_module_version": "1.5.0",
            "_model_name": "HBoxModel",
            "_view_count": null,
            "_view_module": "@jupyter-widgets/controls",
            "_view_module_version": "1.5.0",
            "_view_name": "HBoxView",
            "box_style": "",
            "children": [
              "IPY_MODEL_62898c578fc54ca6996c1dc74be15ad9",
              "IPY_MODEL_76dac92078e74b12a8d38527a8369acb",
              "IPY_MODEL_36042acd80ec4804a9396a69db64820c"
            ],
            "layout": "IPY_MODEL_16793b1557dd42598acf5df018f029ca"
          }
        },
        "62898c578fc54ca6996c1dc74be15ad9": {
          "model_module": "@jupyter-widgets/controls",
          "model_name": "HTMLModel",
          "model_module_version": "1.5.0",
          "state": {
            "_dom_classes": [],
            "_model_module": "@jupyter-widgets/controls",
            "_model_module_version": "1.5.0",
            "_model_name": "HTMLModel",
            "_view_count": null,
            "_view_module": "@jupyter-widgets/controls",
            "_view_module_version": "1.5.0",
            "_view_name": "HTMLView",
            "description": "",
            "description_tooltip": null,
            "layout": "IPY_MODEL_a3df8004294c41eabbd8954a7b8ba8fd",
            "placeholder": "​",
            "style": "IPY_MODEL_dc41cc0f49374d27955be33ece1d4532",
            "value": "Loading checkpoint shards: 100%"
          }
        },
        "76dac92078e74b12a8d38527a8369acb": {
          "model_module": "@jupyter-widgets/controls",
          "model_name": "FloatProgressModel",
          "model_module_version": "1.5.0",
          "state": {
            "_dom_classes": [],
            "_model_module": "@jupyter-widgets/controls",
            "_model_module_version": "1.5.0",
            "_model_name": "FloatProgressModel",
            "_view_count": null,
            "_view_module": "@jupyter-widgets/controls",
            "_view_module_version": "1.5.0",
            "_view_name": "ProgressView",
            "bar_style": "success",
            "description": "",
            "description_tooltip": null,
            "layout": "IPY_MODEL_c204a58d85934023940648c4d736a7d6",
            "max": 3,
            "min": 0,
            "orientation": "horizontal",
            "style": "IPY_MODEL_04c4186181e74445835d74274dbebee9",
            "value": 3
          }
        },
        "36042acd80ec4804a9396a69db64820c": {
          "model_module": "@jupyter-widgets/controls",
          "model_name": "HTMLModel",
          "model_module_version": "1.5.0",
          "state": {
            "_dom_classes": [],
            "_model_module": "@jupyter-widgets/controls",
            "_model_module_version": "1.5.0",
            "_model_name": "HTMLModel",
            "_view_count": null,
            "_view_module": "@jupyter-widgets/controls",
            "_view_module_version": "1.5.0",
            "_view_name": "HTMLView",
            "description": "",
            "description_tooltip": null,
            "layout": "IPY_MODEL_fcb6d7031f69424f922518e6203e1543",
            "placeholder": "​",
            "style": "IPY_MODEL_a01f72420fea410d9f3e66f4f436ee63",
            "value": " 3/3 [01:13&lt;00:00, 24.30s/it]"
          }
        },
        "16793b1557dd42598acf5df018f029ca": {
          "model_module": "@jupyter-widgets/base",
          "model_name": "LayoutModel",
          "model_module_version": "1.2.0",
          "state": {
            "_model_module": "@jupyter-widgets/base",
            "_model_module_version": "1.2.0",
            "_model_name": "LayoutModel",
            "_view_count": null,
            "_view_module": "@jupyter-widgets/base",
            "_view_module_version": "1.2.0",
            "_view_name": "LayoutView",
            "align_content": null,
            "align_items": null,
            "align_self": null,
            "border": null,
            "bottom": null,
            "display": null,
            "flex": null,
            "flex_flow": null,
            "grid_area": null,
            "grid_auto_columns": null,
            "grid_auto_flow": null,
            "grid_auto_rows": null,
            "grid_column": null,
            "grid_gap": null,
            "grid_row": null,
            "grid_template_areas": null,
            "grid_template_columns": null,
            "grid_template_rows": null,
            "height": null,
            "justify_content": null,
            "justify_items": null,
            "left": null,
            "margin": null,
            "max_height": null,
            "max_width": null,
            "min_height": null,
            "min_width": null,
            "object_fit": null,
            "object_position": null,
            "order": null,
            "overflow": null,
            "overflow_x": null,
            "overflow_y": null,
            "padding": null,
            "right": null,
            "top": null,
            "visibility": null,
            "width": null
          }
        },
        "a3df8004294c41eabbd8954a7b8ba8fd": {
          "model_module": "@jupyter-widgets/base",
          "model_name": "LayoutModel",
          "model_module_version": "1.2.0",
          "state": {
            "_model_module": "@jupyter-widgets/base",
            "_model_module_version": "1.2.0",
            "_model_name": "LayoutModel",
            "_view_count": null,
            "_view_module": "@jupyter-widgets/base",
            "_view_module_version": "1.2.0",
            "_view_name": "LayoutView",
            "align_content": null,
            "align_items": null,
            "align_self": null,
            "border": null,
            "bottom": null,
            "display": null,
            "flex": null,
            "flex_flow": null,
            "grid_area": null,
            "grid_auto_columns": null,
            "grid_auto_flow": null,
            "grid_auto_rows": null,
            "grid_column": null,
            "grid_gap": null,
            "grid_row": null,
            "grid_template_areas": null,
            "grid_template_columns": null,
            "grid_template_rows": null,
            "height": null,
            "justify_content": null,
            "justify_items": null,
            "left": null,
            "margin": null,
            "max_height": null,
            "max_width": null,
            "min_height": null,
            "min_width": null,
            "object_fit": null,
            "object_position": null,
            "order": null,
            "overflow": null,
            "overflow_x": null,
            "overflow_y": null,
            "padding": null,
            "right": null,
            "top": null,
            "visibility": null,
            "width": null
          }
        },
        "dc41cc0f49374d27955be33ece1d4532": {
          "model_module": "@jupyter-widgets/controls",
          "model_name": "DescriptionStyleModel",
          "model_module_version": "1.5.0",
          "state": {
            "_model_module": "@jupyter-widgets/controls",
            "_model_module_version": "1.5.0",
            "_model_name": "DescriptionStyleModel",
            "_view_count": null,
            "_view_module": "@jupyter-widgets/base",
            "_view_module_version": "1.2.0",
            "_view_name": "StyleView",
            "description_width": ""
          }
        },
        "c204a58d85934023940648c4d736a7d6": {
          "model_module": "@jupyter-widgets/base",
          "model_name": "LayoutModel",
          "model_module_version": "1.2.0",
          "state": {
            "_model_module": "@jupyter-widgets/base",
            "_model_module_version": "1.2.0",
            "_model_name": "LayoutModel",
            "_view_count": null,
            "_view_module": "@jupyter-widgets/base",
            "_view_module_version": "1.2.0",
            "_view_name": "LayoutView",
            "align_content": null,
            "align_items": null,
            "align_self": null,
            "border": null,
            "bottom": null,
            "display": null,
            "flex": null,
            "flex_flow": null,
            "grid_area": null,
            "grid_auto_columns": null,
            "grid_auto_flow": null,
            "grid_auto_rows": null,
            "grid_column": null,
            "grid_gap": null,
            "grid_row": null,
            "grid_template_areas": null,
            "grid_template_columns": null,
            "grid_template_rows": null,
            "height": null,
            "justify_content": null,
            "justify_items": null,
            "left": null,
            "margin": null,
            "max_height": null,
            "max_width": null,
            "min_height": null,
            "min_width": null,
            "object_fit": null,
            "object_position": null,
            "order": null,
            "overflow": null,
            "overflow_x": null,
            "overflow_y": null,
            "padding": null,
            "right": null,
            "top": null,
            "visibility": null,
            "width": null
          }
        },
        "04c4186181e74445835d74274dbebee9": {
          "model_module": "@jupyter-widgets/controls",
          "model_name": "ProgressStyleModel",
          "model_module_version": "1.5.0",
          "state": {
            "_model_module": "@jupyter-widgets/controls",
            "_model_module_version": "1.5.0",
            "_model_name": "ProgressStyleModel",
            "_view_count": null,
            "_view_module": "@jupyter-widgets/base",
            "_view_module_version": "1.2.0",
            "_view_name": "StyleView",
            "bar_color": null,
            "description_width": ""
          }
        },
        "fcb6d7031f69424f922518e6203e1543": {
          "model_module": "@jupyter-widgets/base",
          "model_name": "LayoutModel",
          "model_module_version": "1.2.0",
          "state": {
            "_model_module": "@jupyter-widgets/base",
            "_model_module_version": "1.2.0",
            "_model_name": "LayoutModel",
            "_view_count": null,
            "_view_module": "@jupyter-widgets/base",
            "_view_module_version": "1.2.0",
            "_view_name": "LayoutView",
            "align_content": null,
            "align_items": null,
            "align_self": null,
            "border": null,
            "bottom": null,
            "display": null,
            "flex": null,
            "flex_flow": null,
            "grid_area": null,
            "grid_auto_columns": null,
            "grid_auto_flow": null,
            "grid_auto_rows": null,
            "grid_column": null,
            "grid_gap": null,
            "grid_row": null,
            "grid_template_areas": null,
            "grid_template_columns": null,
            "grid_template_rows": null,
            "height": null,
            "justify_content": null,
            "justify_items": null,
            "left": null,
            "margin": null,
            "max_height": null,
            "max_width": null,
            "min_height": null,
            "min_width": null,
            "object_fit": null,
            "object_position": null,
            "order": null,
            "overflow": null,
            "overflow_x": null,
            "overflow_y": null,
            "padding": null,
            "right": null,
            "top": null,
            "visibility": null,
            "width": null
          }
        },
        "a01f72420fea410d9f3e66f4f436ee63": {
          "model_module": "@jupyter-widgets/controls",
          "model_name": "DescriptionStyleModel",
          "model_module_version": "1.5.0",
          "state": {
            "_model_module": "@jupyter-widgets/controls",
            "_model_module_version": "1.5.0",
            "_model_name": "DescriptionStyleModel",
            "_view_count": null,
            "_view_module": "@jupyter-widgets/base",
            "_view_module_version": "1.2.0",
            "_view_name": "StyleView",
            "description_width": ""
          }
        }
      }
    }
  },
  "nbformat": 4,
  "nbformat_minor": 5
}