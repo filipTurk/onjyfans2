{
 "cells": [
  {
   "cell_type": "markdown",
   "metadata": {},
   "source": [
    "# Graph-based neural network architectures in NLP\n",
    "<sup>This notebook is a part of Natural Language Processing class at the University of Ljubljana, Faculty for computer and information science. The content was prepared by Timotej Knez - [timotej.knez@fri.uni-lj.si](mailto:timotej.knez@fri.uni-lj.si). Please contact [slavko.zitnik@fri.uni-lj.si](mailto:slavko.zitnik@fri.uni-lj.si) for any comments.</sub>\n",
    "\n",
    "## Graph neural networks\n",
    "Graph neural networks are neural networks that accept graphs as inputs. Their goal is to encode information about the local structure of the graph around a node in a vector that represents each node. Depending on the task the output of a graph neural network can be embeddings for each node or a single vector for an entire graph."
   ]
  },
  {
   "cell_type": "markdown",
   "metadata": {},
   "source": [
    "### Graph\n",
    "A graph consists of nodes that are connected with edges. When talking about graph neural networks each node is represented by a vector of features. If the nodes do not have any features associated with them, we can generate generic feature vectors (vector of size 1 with value 1, or unit vectors of size n where n is the number of nodes).\n",
    "\n",
    "![](graph.png)\n",
    "\n",
    "Nodes and edges can have features. Node features are required for graph neural networks, while some implementations of the graph convolutions can also use the edge features:\n",
    "![](graph-features.png)\n",
    "\n",
    "The edge features can have different complexities:\n",
    "- binary: nodes are/are not connected\n",
    "- multiple edge types: each edge is assigned a type\n",
    "- single continuous value: each edge has a weight\n",
    "- feature vectors: each edge has a vector of features (this is the most complex)"
   ]
  },
  {
   "cell_type": "markdown",
   "metadata": {},
   "source": [
    "### Graph convolution\n",
    "The idea behind graph neural networks is that on each step a node gets some information from its neighbours. This way the node learns information about the local graph structure as well as the features of the nearby nodes.\n",
    "\n",
    "#### Performing a graph convolution operation\n",
    "**General process**:\n",
    "1. Take feature vectors of neighbours\n",
    "    - Defined by the adjacency matrix\n",
    "    - Can also include self loops\n",
    "2. Transform feature vectors\n",
    "    - Usually a single layer is used for transformation\n",
    "    - The weights for the transformation are shared between all nodes (that makes this operation a convolution)\n",
    "4. Aggregate feature vectors\n",
    "    - Aggregation function needs to be order invariant (the order of neighbours should not matter)\n",
    "    - The aggregation function can include attention mechanism to weight the neighbours\n",
    "    - The most common aggregation function is SUM with some normalization (based on the number of neighbours)\n",
    "5. Update\n",
    "    - Include the original feature vector\n",
    "    - Not strictly necessary (we can replace this step with self loops)\n",
    "\n",
    "![](aggregation.png)\n",
    "\n",
    "The end result of the graph convolutions is a graph where the feature vectors of the nodes are different. This is useful when our goal is to predict some characteristic of a node. In some cases we would like to predict characteristic of an entire graph.\n",
    "#### Graph classification\n",
    "When predicting graph level features our goal is to end up with a single vector that describes the entire graph. We achieve this by using pooling layers. The common pooling mechanisms are to compute the average or a maximum of the node vectors. In some cases we loose too much information by pooling over the entire graph. In these cases it might be useful to divide the nodes in a graph into multiple groups and do the pooling operation over each group separately. This way we end up with a smaller graph where we can repeat the pooling part until we get a single vector."
   ]
  },
  {
   "cell_type": "markdown",
   "metadata": {},
   "source": [
    "### Graph neural networks for NLP\n",
    "We can represent a text document as a graph. This way we can take advantage of a graph neural network to analyze the document. Depending on the application there are multiple ways to represent a document as a graph. In this tutorial we will compute a dependency tree and use the dependencies as the edges between the tokens.\n",
    "![](sentence-graph.png)"
   ]
  },
  {
   "cell_type": "markdown",
   "metadata": {},
   "source": [
    "For implementing the grpah neural networks we will be using PyTorch geometric library. This is a library built on top of the PyTorch library.\n",
    "PyTorch geometric requires the following libraries, to work properly:\n",
    "- torch-scatter\n",
    "- torch-sparse\n",
    "- torch-cluster\n",
    "- torch-geometric\n",
    "\n",
    "When using CUDA acceleration, make sure you are using a supported version (read more on [PyTorch Github](https://github.com/pyg-team/pytorch_geometric))"
   ]
  },
  {
   "cell_type": "code",
   "execution_count": 1,
   "metadata": {
    "colab": {
     "base_uri": "https://localhost:8080/"
    },
    "id": "w01OfBvMnhTX",
    "outputId": "77ca5461-71c5-4a27-d63d-eb261806b32d",
    "pycharm": {
     "is_executing": true
    }
   },
   "outputs": [
    {
     "name": "stdout",
     "output_type": "stream",
     "text": [
      "Requirement already satisfied: torch in /Users/slavkoz/Projects/PedagogyProjects/NLP-Course-Tutorials/venv/lib/python3.10/site-packages (2.6.0)\n",
      "Requirement already satisfied: torchvision in /Users/slavkoz/Projects/PedagogyProjects/NLP-Course-Tutorials/venv/lib/python3.10/site-packages (0.21.0)\n",
      "Requirement already satisfied: torchaudio in /Users/slavkoz/Projects/PedagogyProjects/NLP-Course-Tutorials/venv/lib/python3.10/site-packages (2.6.0)\n",
      "Requirement already satisfied: torch-geometric in /Users/slavkoz/Projects/PedagogyProjects/NLP-Course-Tutorials/venv/lib/python3.10/site-packages (2.6.1)\n",
      "Requirement already satisfied: pandas in /Users/slavkoz/Projects/PedagogyProjects/NLP-Course-Tutorials/venv/lib/python3.10/site-packages (2.2.2)\n",
      "Requirement already satisfied: spacy==3.8.2 in /Users/slavkoz/Projects/PedagogyProjects/NLP-Course-Tutorials/venv/lib/python3.10/site-packages (3.8.2)\n",
      "Requirement already satisfied: thinc==8.3.3 in /Users/slavkoz/Projects/PedagogyProjects/NLP-Course-Tutorials/venv/lib/python3.10/site-packages (8.3.3)\n",
      "Requirement already satisfied: numpy==1.26.4 in /Users/slavkoz/Projects/PedagogyProjects/NLP-Course-Tutorials/venv/lib/python3.10/site-packages (1.26.4)\n",
      "Requirement already satisfied: torchviz in /Users/slavkoz/Projects/PedagogyProjects/NLP-Course-Tutorials/venv/lib/python3.10/site-packages (0.0.3)\n",
      "Requirement already satisfied: wasabi<1.2.0,>=0.9.1 in /Users/slavkoz/Projects/PedagogyProjects/NLP-Course-Tutorials/venv/lib/python3.10/site-packages (from spacy==3.8.2) (1.1.3)\n",
      "Requirement already satisfied: setuptools in /Users/slavkoz/Projects/PedagogyProjects/NLP-Course-Tutorials/venv/lib/python3.10/site-packages (from spacy==3.8.2) (65.5.0)\n",
      "Requirement already satisfied: tqdm<5.0.0,>=4.38.0 in /Users/slavkoz/Projects/PedagogyProjects/NLP-Course-Tutorials/venv/lib/python3.10/site-packages (from spacy==3.8.2) (4.67.1)\n",
      "Requirement already satisfied: spacy-legacy<3.1.0,>=3.0.11 in /Users/slavkoz/Projects/PedagogyProjects/NLP-Course-Tutorials/venv/lib/python3.10/site-packages (from spacy==3.8.2) (3.0.12)\n",
      "Requirement already satisfied: srsly<3.0.0,>=2.4.3 in /Users/slavkoz/Projects/PedagogyProjects/NLP-Course-Tutorials/venv/lib/python3.10/site-packages (from spacy==3.8.2) (2.5.1)\n",
      "Requirement already satisfied: weasel<0.5.0,>=0.1.0 in /Users/slavkoz/Projects/PedagogyProjects/NLP-Course-Tutorials/venv/lib/python3.10/site-packages (from spacy==3.8.2) (0.4.1)\n",
      "Requirement already satisfied: catalogue<2.1.0,>=2.0.6 in /Users/slavkoz/Projects/PedagogyProjects/NLP-Course-Tutorials/venv/lib/python3.10/site-packages (from spacy==3.8.2) (2.0.10)\n",
      "Requirement already satisfied: typer<1.0.0,>=0.3.0 in /Users/slavkoz/Projects/PedagogyProjects/NLP-Course-Tutorials/venv/lib/python3.10/site-packages (from spacy==3.8.2) (0.15.2)\n",
      "Requirement already satisfied: pydantic!=1.8,!=1.8.1,<3.0.0,>=1.7.4 in /Users/slavkoz/Projects/PedagogyProjects/NLP-Course-Tutorials/venv/lib/python3.10/site-packages (from spacy==3.8.2) (2.11.3)\n",
      "Requirement already satisfied: spacy-loggers<2.0.0,>=1.0.0 in /Users/slavkoz/Projects/PedagogyProjects/NLP-Course-Tutorials/venv/lib/python3.10/site-packages (from spacy==3.8.2) (1.0.5)\n",
      "Requirement already satisfied: requests<3.0.0,>=2.13.0 in /Users/slavkoz/Projects/PedagogyProjects/NLP-Course-Tutorials/venv/lib/python3.10/site-packages (from spacy==3.8.2) (2.32.3)\n",
      "Requirement already satisfied: packaging>=20.0 in /Users/slavkoz/Projects/PedagogyProjects/NLP-Course-Tutorials/venv/lib/python3.10/site-packages (from spacy==3.8.2) (24.2)\n",
      "Requirement already satisfied: jinja2 in /Users/slavkoz/Projects/PedagogyProjects/NLP-Course-Tutorials/venv/lib/python3.10/site-packages (from spacy==3.8.2) (3.1.6)\n",
      "Requirement already satisfied: murmurhash<1.1.0,>=0.28.0 in /Users/slavkoz/Projects/PedagogyProjects/NLP-Course-Tutorials/venv/lib/python3.10/site-packages (from spacy==3.8.2) (1.0.12)\n",
      "Requirement already satisfied: langcodes<4.0.0,>=3.2.0 in /Users/slavkoz/Projects/PedagogyProjects/NLP-Course-Tutorials/venv/lib/python3.10/site-packages (from spacy==3.8.2) (3.5.0)\n",
      "Requirement already satisfied: preshed<3.1.0,>=3.0.2 in /Users/slavkoz/Projects/PedagogyProjects/NLP-Course-Tutorials/venv/lib/python3.10/site-packages (from spacy==3.8.2) (3.0.9)\n",
      "Requirement already satisfied: cymem<2.1.0,>=2.0.2 in /Users/slavkoz/Projects/PedagogyProjects/NLP-Course-Tutorials/venv/lib/python3.10/site-packages (from spacy==3.8.2) (2.0.11)\n",
      "Requirement already satisfied: confection<1.0.0,>=0.0.1 in /Users/slavkoz/Projects/PedagogyProjects/NLP-Course-Tutorials/venv/lib/python3.10/site-packages (from thinc==8.3.3) (0.1.5)\n",
      "Requirement already satisfied: blis<1.2.0,>=1.1.0 in /Users/slavkoz/Projects/PedagogyProjects/NLP-Course-Tutorials/venv/lib/python3.10/site-packages (from thinc==8.3.3) (1.1.0)\n",
      "Requirement already satisfied: fsspec in /Users/slavkoz/Projects/PedagogyProjects/NLP-Course-Tutorials/venv/lib/python3.10/site-packages (from torch) (2025.3.2)\n",
      "Requirement already satisfied: typing-extensions>=4.10.0 in /Users/slavkoz/Projects/PedagogyProjects/NLP-Course-Tutorials/venv/lib/python3.10/site-packages (from torch) (4.12.2)\n",
      "Requirement already satisfied: networkx in /Users/slavkoz/Projects/PedagogyProjects/NLP-Course-Tutorials/venv/lib/python3.10/site-packages (from torch) (3.4.2)\n",
      "Requirement already satisfied: filelock in /Users/slavkoz/Projects/PedagogyProjects/NLP-Course-Tutorials/venv/lib/python3.10/site-packages (from torch) (3.18.0)\n",
      "Requirement already satisfied: sympy==1.13.1 in /Users/slavkoz/Projects/PedagogyProjects/NLP-Course-Tutorials/venv/lib/python3.10/site-packages (from torch) (1.13.1)\n",
      "Requirement already satisfied: mpmath<1.4,>=1.1.0 in /Users/slavkoz/Projects/PedagogyProjects/NLP-Course-Tutorials/venv/lib/python3.10/site-packages (from sympy==1.13.1->torch) (1.3.0)\n",
      "Requirement already satisfied: pillow!=8.3.*,>=5.3.0 in /Users/slavkoz/Projects/PedagogyProjects/NLP-Course-Tutorials/venv/lib/python3.10/site-packages (from torchvision) (11.1.0)\n",
      "Requirement already satisfied: psutil>=5.8.0 in /Users/slavkoz/Projects/PedagogyProjects/NLP-Course-Tutorials/venv/lib/python3.10/site-packages (from torch-geometric) (7.0.0)\n",
      "Requirement already satisfied: pyparsing in /Users/slavkoz/Projects/PedagogyProjects/NLP-Course-Tutorials/venv/lib/python3.10/site-packages (from torch-geometric) (3.2.1)\n",
      "Requirement already satisfied: aiohttp in /Users/slavkoz/Projects/PedagogyProjects/NLP-Course-Tutorials/venv/lib/python3.10/site-packages (from torch-geometric) (3.11.18)\n",
      "Requirement already satisfied: python-dateutil>=2.8.2 in /Users/slavkoz/Projects/PedagogyProjects/NLP-Course-Tutorials/venv/lib/python3.10/site-packages (from pandas) (2.9.0.post0)\n",
      "Requirement already satisfied: tzdata>=2022.7 in /Users/slavkoz/Projects/PedagogyProjects/NLP-Course-Tutorials/venv/lib/python3.10/site-packages (from pandas) (2025.1)\n",
      "Requirement already satisfied: pytz>=2020.1 in /Users/slavkoz/Projects/PedagogyProjects/NLP-Course-Tutorials/venv/lib/python3.10/site-packages (from pandas) (2025.1)\n",
      "Requirement already satisfied: graphviz in /Users/slavkoz/Projects/PedagogyProjects/NLP-Course-Tutorials/venv/lib/python3.10/site-packages (from torchviz) (0.20.3)\n",
      "Requirement already satisfied: language-data>=1.2 in /Users/slavkoz/Projects/PedagogyProjects/NLP-Course-Tutorials/venv/lib/python3.10/site-packages (from langcodes<4.0.0,>=3.2.0->spacy==3.8.2) (1.3.0)\n",
      "Requirement already satisfied: pydantic-core==2.33.1 in /Users/slavkoz/Projects/PedagogyProjects/NLP-Course-Tutorials/venv/lib/python3.10/site-packages (from pydantic!=1.8,!=1.8.1,<3.0.0,>=1.7.4->spacy==3.8.2) (2.33.1)\n",
      "Requirement already satisfied: typing-inspection>=0.4.0 in /Users/slavkoz/Projects/PedagogyProjects/NLP-Course-Tutorials/venv/lib/python3.10/site-packages (from pydantic!=1.8,!=1.8.1,<3.0.0,>=1.7.4->spacy==3.8.2) (0.4.0)\n",
      "Requirement already satisfied: annotated-types>=0.6.0 in /Users/slavkoz/Projects/PedagogyProjects/NLP-Course-Tutorials/venv/lib/python3.10/site-packages (from pydantic!=1.8,!=1.8.1,<3.0.0,>=1.7.4->spacy==3.8.2) (0.7.0)\n",
      "Requirement already satisfied: six>=1.5 in /Users/slavkoz/Projects/PedagogyProjects/NLP-Course-Tutorials/venv/lib/python3.10/site-packages (from python-dateutil>=2.8.2->pandas) (1.17.0)\n",
      "Requirement already satisfied: urllib3<3,>=1.21.1 in /Users/slavkoz/Projects/PedagogyProjects/NLP-Course-Tutorials/venv/lib/python3.10/site-packages (from requests<3.0.0,>=2.13.0->spacy==3.8.2) (2.3.0)\n",
      "Requirement already satisfied: certifi>=2017.4.17 in /Users/slavkoz/Projects/PedagogyProjects/NLP-Course-Tutorials/venv/lib/python3.10/site-packages (from requests<3.0.0,>=2.13.0->spacy==3.8.2) (2025.1.31)\n",
      "Requirement already satisfied: charset-normalizer<4,>=2 in /Users/slavkoz/Projects/PedagogyProjects/NLP-Course-Tutorials/venv/lib/python3.10/site-packages (from requests<3.0.0,>=2.13.0->spacy==3.8.2) (3.4.1)\n",
      "Requirement already satisfied: idna<4,>=2.5 in /Users/slavkoz/Projects/PedagogyProjects/NLP-Course-Tutorials/venv/lib/python3.10/site-packages (from requests<3.0.0,>=2.13.0->spacy==3.8.2) (3.10)\n",
      "Requirement already satisfied: shellingham>=1.3.0 in /Users/slavkoz/Projects/PedagogyProjects/NLP-Course-Tutorials/venv/lib/python3.10/site-packages (from typer<1.0.0,>=0.3.0->spacy==3.8.2) (1.5.4)\n",
      "Requirement already satisfied: rich>=10.11.0 in /Users/slavkoz/Projects/PedagogyProjects/NLP-Course-Tutorials/venv/lib/python3.10/site-packages (from typer<1.0.0,>=0.3.0->spacy==3.8.2) (13.9.4)\n",
      "Requirement already satisfied: click>=8.0.0 in /Users/slavkoz/Projects/PedagogyProjects/NLP-Course-Tutorials/venv/lib/python3.10/site-packages (from typer<1.0.0,>=0.3.0->spacy==3.8.2) (8.1.8)\n",
      "Requirement already satisfied: cloudpathlib<1.0.0,>=0.7.0 in /Users/slavkoz/Projects/PedagogyProjects/NLP-Course-Tutorials/venv/lib/python3.10/site-packages (from weasel<0.5.0,>=0.1.0->spacy==3.8.2) (0.21.0)\n",
      "Requirement already satisfied: smart-open<8.0.0,>=5.2.1 in /Users/slavkoz/Projects/PedagogyProjects/NLP-Course-Tutorials/venv/lib/python3.10/site-packages (from weasel<0.5.0,>=0.1.0->spacy==3.8.2) (7.1.0)\n",
      "Requirement already satisfied: propcache>=0.2.0 in /Users/slavkoz/Projects/PedagogyProjects/NLP-Course-Tutorials/venv/lib/python3.10/site-packages (from aiohttp->torch-geometric) (0.3.1)\n",
      "Requirement already satisfied: async-timeout<6.0,>=4.0 in /Users/slavkoz/Projects/PedagogyProjects/NLP-Course-Tutorials/venv/lib/python3.10/site-packages (from aiohttp->torch-geometric) (5.0.1)\n",
      "Requirement already satisfied: multidict<7.0,>=4.5 in /Users/slavkoz/Projects/PedagogyProjects/NLP-Course-Tutorials/venv/lib/python3.10/site-packages (from aiohttp->torch-geometric) (6.4.3)\n",
      "Requirement already satisfied: aiohappyeyeballs>=2.3.0 in /Users/slavkoz/Projects/PedagogyProjects/NLP-Course-Tutorials/venv/lib/python3.10/site-packages (from aiohttp->torch-geometric) (2.6.1)\n",
      "Requirement already satisfied: frozenlist>=1.1.1 in /Users/slavkoz/Projects/PedagogyProjects/NLP-Course-Tutorials/venv/lib/python3.10/site-packages (from aiohttp->torch-geometric) (1.6.0)\n",
      "Requirement already satisfied: yarl<2.0,>=1.17.0 in /Users/slavkoz/Projects/PedagogyProjects/NLP-Course-Tutorials/venv/lib/python3.10/site-packages (from aiohttp->torch-geometric) (1.20.0)\n",
      "Requirement already satisfied: attrs>=17.3.0 in /Users/slavkoz/Projects/PedagogyProjects/NLP-Course-Tutorials/venv/lib/python3.10/site-packages (from aiohttp->torch-geometric) (25.1.0)\n",
      "Requirement already satisfied: aiosignal>=1.1.2 in /Users/slavkoz/Projects/PedagogyProjects/NLP-Course-Tutorials/venv/lib/python3.10/site-packages (from aiohttp->torch-geometric) (1.3.2)\n",
      "Requirement already satisfied: MarkupSafe>=2.0 in /Users/slavkoz/Projects/PedagogyProjects/NLP-Course-Tutorials/venv/lib/python3.10/site-packages (from jinja2->spacy==3.8.2) (3.0.2)\n",
      "Requirement already satisfied: marisa-trie>=1.1.0 in /Users/slavkoz/Projects/PedagogyProjects/NLP-Course-Tutorials/venv/lib/python3.10/site-packages (from language-data>=1.2->langcodes<4.0.0,>=3.2.0->spacy==3.8.2) (1.2.1)\n",
      "Requirement already satisfied: pygments<3.0.0,>=2.13.0 in /Users/slavkoz/Projects/PedagogyProjects/NLP-Course-Tutorials/venv/lib/python3.10/site-packages (from rich>=10.11.0->typer<1.0.0,>=0.3.0->spacy==3.8.2) (2.19.1)\n",
      "Requirement already satisfied: markdown-it-py>=2.2.0 in /Users/slavkoz/Projects/PedagogyProjects/NLP-Course-Tutorials/venv/lib/python3.10/site-packages (from rich>=10.11.0->typer<1.0.0,>=0.3.0->spacy==3.8.2) (3.0.0)\n",
      "Requirement already satisfied: wrapt in /Users/slavkoz/Projects/PedagogyProjects/NLP-Course-Tutorials/venv/lib/python3.10/site-packages (from smart-open<8.0.0,>=5.2.1->weasel<0.5.0,>=0.1.0->spacy==3.8.2) (1.17.2)\n",
      "Requirement already satisfied: mdurl~=0.1 in /Users/slavkoz/Projects/PedagogyProjects/NLP-Course-Tutorials/venv/lib/python3.10/site-packages (from markdown-it-py>=2.2.0->rich>=10.11.0->typer<1.0.0,>=0.3.0->spacy==3.8.2) (0.1.2)\n",
      "\n",
      "\u001b[1m[\u001b[0m\u001b[34;49mnotice\u001b[0m\u001b[1;39;49m]\u001b[0m\u001b[39;49m A new release of pip is available: \u001b[0m\u001b[31;49m23.0.1\u001b[0m\u001b[39;49m -> \u001b[0m\u001b[32;49m25.0.1\u001b[0m\n",
      "\u001b[1m[\u001b[0m\u001b[34;49mnotice\u001b[0m\u001b[1;39;49m]\u001b[0m\u001b[39;49m To update, run: \u001b[0m\u001b[32;49mpip install --upgrade pip\u001b[0m\n",
      "Looking in links: https://data.pyg.org/whl/torch-2.6.0+cpu.html\n",
      "Requirement already satisfied: pyg_lib in /Users/slavkoz/Projects/PedagogyProjects/NLP-Course-Tutorials/venv/lib/python3.10/site-packages (0.4.0+pt26)\n",
      "Requirement already satisfied: torch_scatter in /Users/slavkoz/Projects/PedagogyProjects/NLP-Course-Tutorials/venv/lib/python3.10/site-packages (2.1.2)\n",
      "Requirement already satisfied: torch_sparse in /Users/slavkoz/Projects/PedagogyProjects/NLP-Course-Tutorials/venv/lib/python3.10/site-packages (0.6.18)\n",
      "Requirement already satisfied: torch_cluster in /Users/slavkoz/Projects/PedagogyProjects/NLP-Course-Tutorials/venv/lib/python3.10/site-packages (1.6.3)\n",
      "Requirement already satisfied: torch_spline_conv in /Users/slavkoz/Projects/PedagogyProjects/NLP-Course-Tutorials/venv/lib/python3.10/site-packages (1.2.2)\n",
      "Requirement already satisfied: scipy in /Users/slavkoz/Projects/PedagogyProjects/NLP-Course-Tutorials/venv/lib/python3.10/site-packages (from torch_sparse) (1.10.1)\n",
      "Requirement already satisfied: numpy<1.27.0,>=1.19.5 in /Users/slavkoz/Projects/PedagogyProjects/NLP-Course-Tutorials/venv/lib/python3.10/site-packages (from scipy->torch_sparse) (1.26.4)\n",
      "\n",
      "\u001b[1m[\u001b[0m\u001b[34;49mnotice\u001b[0m\u001b[1;39;49m]\u001b[0m\u001b[39;49m A new release of pip is available: \u001b[0m\u001b[31;49m23.0.1\u001b[0m\u001b[39;49m -> \u001b[0m\u001b[32;49m25.0.1\u001b[0m\n",
      "\u001b[1m[\u001b[0m\u001b[34;49mnotice\u001b[0m\u001b[1;39;49m]\u001b[0m\u001b[39;49m To update, run: \u001b[0m\u001b[32;49mpip install --upgrade pip\u001b[0m\n"
     ]
    }
   ],
   "source": [
    "# Install the torch-geometric package \n",
    "\n",
    "# PIP\n",
    "!pip install torch torchvision torchaudio torch-geometric pandas spacy==3.8.2 thinc==8.3.3 numpy==1.26.4 torchviz\n",
    "!pip install pyg_lib torch_scatter torch_sparse torch_cluster torch_spline_conv -f https://data.pyg.org/whl/torch-2.6.0+cpu.html"
   ]
  },
  {
   "cell_type": "code",
   "execution_count": 2,
   "metadata": {},
   "outputs": [
    {
     "name": "stdout",
     "output_type": "stream",
     "text": [
      "Collecting en-core-web-lg==3.8.0\n",
      "  Using cached https://github.com/explosion/spacy-models/releases/download/en_core_web_lg-3.8.0/en_core_web_lg-3.8.0-py3-none-any.whl (400.7 MB)\n",
      "\n",
      "\u001b[1m[\u001b[0m\u001b[34;49mnotice\u001b[0m\u001b[1;39;49m]\u001b[0m\u001b[39;49m A new release of pip is available: \u001b[0m\u001b[31;49m23.0.1\u001b[0m\u001b[39;49m -> \u001b[0m\u001b[32;49m25.0.1\u001b[0m\n",
      "\u001b[1m[\u001b[0m\u001b[34;49mnotice\u001b[0m\u001b[1;39;49m]\u001b[0m\u001b[39;49m To update, run: \u001b[0m\u001b[32;49mpip install --upgrade pip\u001b[0m\n",
      "\u001b[38;5;2m✔ Download and installation successful\u001b[0m\n",
      "You can now load the package via spacy.load('en_core_web_lg')\n"
     ]
    }
   ],
   "source": [
    "# Download Spacy model\n",
    "!python -m spacy download en_core_web_lg"
   ]
  },
  {
   "cell_type": "code",
   "execution_count": 3,
   "metadata": {
    "pycharm": {
     "name": "#%%\n"
    }
   },
   "outputs": [
    {
     "name": "stderr",
     "output_type": "stream",
     "text": [
      "/Users/slavkoz/Projects/PedagogyProjects/NLP-Course-Tutorials/venv/lib/python3.10/site-packages/torch_geometric/typing.py:68: UserWarning: An issue occurred while importing 'pyg-lib'. Disabling its usage. Stacktrace: dlopen(/Users/slavkoz/Projects/PedagogyProjects/NLP-Course-Tutorials/venv/lib/python3.10/site-packages/libpyg.so, 0x0006): Library not loaded: /Library/Frameworks/Python.framework/Versions/3.10/Python\n",
      "  Referenced from: <FB8A6EBF-9FE1-3DA4-84B1-82EB1D6979ED> /Users/slavkoz/Projects/PedagogyProjects/NLP-Course-Tutorials/venv/lib/python3.10/site-packages/libpyg.so\n",
      "  Reason: tried: '/Library/Frameworks/Python.framework/Versions/3.10/Python' (no such file), '/System/Volumes/Preboot/Cryptexes/OS/Library/Frameworks/Python.framework/Versions/3.10/Python' (no such file), '/Library/Frameworks/Python.framework/Versions/3.10/Python' (no such file)\n",
      "  warnings.warn(f\"An issue occurred while importing 'pyg-lib'. \"\n",
      "/Users/slavkoz/Projects/PedagogyProjects/NLP-Course-Tutorials/venv/lib/python3.10/site-packages/torch_geometric/typing.py:124: UserWarning: An issue occurred while importing 'torch-sparse'. Disabling its usage. Stacktrace: dlopen(/Users/slavkoz/Projects/PedagogyProjects/NLP-Course-Tutorials/venv/lib/python3.10/site-packages/libpyg.so, 0x0006): Library not loaded: /Library/Frameworks/Python.framework/Versions/3.10/Python\n",
      "  Referenced from: <FB8A6EBF-9FE1-3DA4-84B1-82EB1D6979ED> /Users/slavkoz/Projects/PedagogyProjects/NLP-Course-Tutorials/venv/lib/python3.10/site-packages/libpyg.so\n",
      "  Reason: tried: '/Library/Frameworks/Python.framework/Versions/3.10/Python' (no such file), '/System/Volumes/Preboot/Cryptexes/OS/Library/Frameworks/Python.framework/Versions/3.10/Python' (no such file), '/Library/Frameworks/Python.framework/Versions/3.10/Python' (no such file)\n",
      "  warnings.warn(f\"An issue occurred while importing 'torch-sparse'. \"\n",
      "/Users/slavkoz/Projects/PedagogyProjects/NLP-Course-Tutorials/venv/lib/python3.10/site-packages/torch_geometric/graphgym/config.py:19: UserWarning: Could not define global config object. Please install 'yacs' via 'pip install yacs' in order to use GraphGym\n",
      "  warnings.warn(\"Could not define global config object. Please install \"\n",
      "/Users/slavkoz/Projects/PedagogyProjects/NLP-Course-Tutorials/venv/lib/python3.10/site-packages/torch_geometric/graphgym/imports.py:14: UserWarning: Please install 'pytorch_lightning' via  'pip install pytorch_lightning' in order to use GraphGym\n",
      "  warnings.warn(\"Please install 'pytorch_lightning' via  \"\n"
     ]
    }
   ],
   "source": [
    "from datetime import datetime\n",
    "import spacy\n",
    "import pandas\n",
    "import torch\n",
    "import torch.nn as nn\n",
    "import torch.nn.functional as F\n",
    "from torch.utils.tensorboard import SummaryWriter\n",
    "import numpy as np\n",
    "\n",
    "# torch geometric libraries\n",
    "from torch_geometric.loader import DataLoader\n",
    "from torch_geometric.data import Data\n",
    "import torch_geometric.nn as pyg_nn\n",
    "from torch_geometric.graphgym import optim\n",
    "import torch_geometric.utils as pyg_utils\n",
    "\n",
    "nlp = spacy.load(\"en_core_web_lg\")\n",
    "vector_size = 300  # the size of token vector representation s in en_core_web_lg model"
   ]
  },
  {
   "cell_type": "markdown",
   "metadata": {},
   "source": [
    "### Representing a document as a graph\n",
    "We will use the spacy library to split the document into tokens, compute token embeddings and to get the dependencies between tokens.\n",
    "\n",
    "The process of building a graph:\n",
    "- Split text into tokens\n",
    "- Tokens become nodes in a graph\n",
    "- Calculate embedding for each token\n",
    "- Use dependencies between tokens as edges"
   ]
  },
  {
   "cell_type": "code",
   "execution_count": 4,
   "metadata": {
    "pycharm": {
     "name": "#%%\n"
    }
   },
   "outputs": [
    {
     "name": "stdout",
     "output_type": "stream",
     "text": [
      "is -> Today\n",
      "is -> is\n",
      "day -> a\n",
      "sunny -> very\n",
      "day -> sunny\n",
      "is -> day\n",
      "is -> .\n"
     ]
    },
    {
     "data": {
      "text/html": [
       "<span class=\"tex2jax_ignore\"><svg xmlns=\"http://www.w3.org/2000/svg\" xmlns:xlink=\"http://www.w3.org/1999/xlink\" xml:lang=\"en\" id=\"cf6758024f7747faae38ce480d7fa9db-0\" class=\"displacy\" width=\"1100\" height=\"399.5\" direction=\"ltr\" style=\"max-width: none; height: 399.5px; color: #000000; background: #ffffff; font-family: Arial; direction: ltr\">\n",
       "<text class=\"displacy-token\" fill=\"currentColor\" text-anchor=\"middle\" y=\"309.5\">\n",
       "    <tspan class=\"displacy-word\" fill=\"currentColor\" x=\"50\">Today</tspan>\n",
       "    <tspan class=\"displacy-tag\" dy=\"2em\" fill=\"currentColor\" x=\"50\">NOUN</tspan>\n",
       "</text>\n",
       "\n",
       "<text class=\"displacy-token\" fill=\"currentColor\" text-anchor=\"middle\" y=\"309.5\">\n",
       "    <tspan class=\"displacy-word\" fill=\"currentColor\" x=\"225\">is</tspan>\n",
       "    <tspan class=\"displacy-tag\" dy=\"2em\" fill=\"currentColor\" x=\"225\">AUX</tspan>\n",
       "</text>\n",
       "\n",
       "<text class=\"displacy-token\" fill=\"currentColor\" text-anchor=\"middle\" y=\"309.5\">\n",
       "    <tspan class=\"displacy-word\" fill=\"currentColor\" x=\"400\">a</tspan>\n",
       "    <tspan class=\"displacy-tag\" dy=\"2em\" fill=\"currentColor\" x=\"400\">DET</tspan>\n",
       "</text>\n",
       "\n",
       "<text class=\"displacy-token\" fill=\"currentColor\" text-anchor=\"middle\" y=\"309.5\">\n",
       "    <tspan class=\"displacy-word\" fill=\"currentColor\" x=\"575\">very</tspan>\n",
       "    <tspan class=\"displacy-tag\" dy=\"2em\" fill=\"currentColor\" x=\"575\">ADV</tspan>\n",
       "</text>\n",
       "\n",
       "<text class=\"displacy-token\" fill=\"currentColor\" text-anchor=\"middle\" y=\"309.5\">\n",
       "    <tspan class=\"displacy-word\" fill=\"currentColor\" x=\"750\">sunny</tspan>\n",
       "    <tspan class=\"displacy-tag\" dy=\"2em\" fill=\"currentColor\" x=\"750\">ADJ</tspan>\n",
       "</text>\n",
       "\n",
       "<text class=\"displacy-token\" fill=\"currentColor\" text-anchor=\"middle\" y=\"309.5\">\n",
       "    <tspan class=\"displacy-word\" fill=\"currentColor\" x=\"925\">day.</tspan>\n",
       "    <tspan class=\"displacy-tag\" dy=\"2em\" fill=\"currentColor\" x=\"925\">NOUN</tspan>\n",
       "</text>\n",
       "\n",
       "<g class=\"displacy-arrow\">\n",
       "    <path class=\"displacy-arc\" id=\"arrow-cf6758024f7747faae38ce480d7fa9db-0-0\" stroke-width=\"2px\" d=\"M70,264.5 C70,177.0 215.0,177.0 215.0,264.5\" fill=\"none\" stroke=\"currentColor\"/>\n",
       "    <text dy=\"1.25em\" style=\"font-size: 0.8em; letter-spacing: 1px\">\n",
       "        <textPath xlink:href=\"#arrow-cf6758024f7747faae38ce480d7fa9db-0-0\" class=\"displacy-label\" startOffset=\"50%\" side=\"left\" fill=\"currentColor\" text-anchor=\"middle\">nsubj</textPath>\n",
       "    </text>\n",
       "    <path class=\"displacy-arrowhead\" d=\"M70,266.5 L62,254.5 78,254.5\" fill=\"currentColor\"/>\n",
       "</g>\n",
       "\n",
       "<g class=\"displacy-arrow\">\n",
       "    <path class=\"displacy-arc\" id=\"arrow-cf6758024f7747faae38ce480d7fa9db-0-1\" stroke-width=\"2px\" d=\"M420,264.5 C420,89.5 920.0,89.5 920.0,264.5\" fill=\"none\" stroke=\"currentColor\"/>\n",
       "    <text dy=\"1.25em\" style=\"font-size: 0.8em; letter-spacing: 1px\">\n",
       "        <textPath xlink:href=\"#arrow-cf6758024f7747faae38ce480d7fa9db-0-1\" class=\"displacy-label\" startOffset=\"50%\" side=\"left\" fill=\"currentColor\" text-anchor=\"middle\">det</textPath>\n",
       "    </text>\n",
       "    <path class=\"displacy-arrowhead\" d=\"M420,266.5 L412,254.5 428,254.5\" fill=\"currentColor\"/>\n",
       "</g>\n",
       "\n",
       "<g class=\"displacy-arrow\">\n",
       "    <path class=\"displacy-arc\" id=\"arrow-cf6758024f7747faae38ce480d7fa9db-0-2\" stroke-width=\"2px\" d=\"M595,264.5 C595,177.0 740.0,177.0 740.0,264.5\" fill=\"none\" stroke=\"currentColor\"/>\n",
       "    <text dy=\"1.25em\" style=\"font-size: 0.8em; letter-spacing: 1px\">\n",
       "        <textPath xlink:href=\"#arrow-cf6758024f7747faae38ce480d7fa9db-0-2\" class=\"displacy-label\" startOffset=\"50%\" side=\"left\" fill=\"currentColor\" text-anchor=\"middle\">advmod</textPath>\n",
       "    </text>\n",
       "    <path class=\"displacy-arrowhead\" d=\"M595,266.5 L587,254.5 603,254.5\" fill=\"currentColor\"/>\n",
       "</g>\n",
       "\n",
       "<g class=\"displacy-arrow\">\n",
       "    <path class=\"displacy-arc\" id=\"arrow-cf6758024f7747faae38ce480d7fa9db-0-3\" stroke-width=\"2px\" d=\"M770,264.5 C770,177.0 915.0,177.0 915.0,264.5\" fill=\"none\" stroke=\"currentColor\"/>\n",
       "    <text dy=\"1.25em\" style=\"font-size: 0.8em; letter-spacing: 1px\">\n",
       "        <textPath xlink:href=\"#arrow-cf6758024f7747faae38ce480d7fa9db-0-3\" class=\"displacy-label\" startOffset=\"50%\" side=\"left\" fill=\"currentColor\" text-anchor=\"middle\">amod</textPath>\n",
       "    </text>\n",
       "    <path class=\"displacy-arrowhead\" d=\"M770,266.5 L762,254.5 778,254.5\" fill=\"currentColor\"/>\n",
       "</g>\n",
       "\n",
       "<g class=\"displacy-arrow\">\n",
       "    <path class=\"displacy-arc\" id=\"arrow-cf6758024f7747faae38ce480d7fa9db-0-4\" stroke-width=\"2px\" d=\"M245,264.5 C245,2.0 925.0,2.0 925.0,264.5\" fill=\"none\" stroke=\"currentColor\"/>\n",
       "    <text dy=\"1.25em\" style=\"font-size: 0.8em; letter-spacing: 1px\">\n",
       "        <textPath xlink:href=\"#arrow-cf6758024f7747faae38ce480d7fa9db-0-4\" class=\"displacy-label\" startOffset=\"50%\" side=\"left\" fill=\"currentColor\" text-anchor=\"middle\">attr</textPath>\n",
       "    </text>\n",
       "    <path class=\"displacy-arrowhead\" d=\"M925.0,266.5 L933.0,254.5 917.0,254.5\" fill=\"currentColor\"/>\n",
       "</g>\n",
       "</svg></span>"
      ],
      "text/plain": [
       "<IPython.core.display.HTML object>"
      ]
     },
     "metadata": {},
     "output_type": "display_data"
    }
   ],
   "source": [
    "# Using spacy to get a dependency tree\n",
    "doc = nlp(\"Today is a very sunny day.\")\n",
    "for token in doc:\n",
    "    print(token.head, \"->\", token)\n",
    "spacy.displacy.render(doc, style='dep')"
   ]
  },
  {
   "cell_type": "markdown",
   "metadata": {},
   "source": [
    "### Obtaining token embeddings:\n",
    "In order to use graph neural networks effectively, we need some vectors that represent the nodes. In our case the nodes represent individual tokens, so we can use token embeddings to represent nodes. The quality of the embeddings has a large effect on the performance of the model. Spacy already provides a way to get token embeddings by using the **vector** attribute of the token class. The embeddings that we get depend on the language model that we use. We will use the vectors provided by the **en_core_web_lg** model. The model provides 300 dimensional vectors for 685k unique tokens. The vectors are computed using the word2vec algorithm."
   ]
  },
  {
   "cell_type": "code",
   "execution_count": 5,
   "metadata": {
    "pycharm": {
     "name": "#%%\n"
    }
   },
   "outputs": [
    {
     "name": "stdout",
     "output_type": "stream",
     "text": [
      "Today : 300\n",
      "is : 300\n",
      "a : 300\n",
      "very : 300\n",
      "sunny : 300\n",
      "day : 300\n",
      ". : 300\n"
     ]
    }
   ],
   "source": [
    "# Compute token embeddings\n",
    "for token in nlp(\"Today is a very sunny day.\"):\n",
    "    print(token, \":\", token.vector.size)"
   ]
  },
  {
   "cell_type": "markdown",
   "metadata": {},
   "source": [
    "Now let's create a function that accepts a text document and builds a syntax graph using the methods that we have seen.\n",
    "The graph will be presented using a torch geometric **Data** object which helps us with training the model. Mainly it provides an automatic way to batch multiple graphs together. The Data object contains some predefined attributes like x (node embeddings), edge_index (representation of graph edges) and y (graph or node target class). We can also define our own attributes. In this example we will use text attribute to store the original text of the document and the root_index attribute to store the index of the node in a graph representing the root of a sentence (the main verb)."
   ]
  },
  {
   "cell_type": "code",
   "execution_count": 6,
   "metadata": {
    "pycharm": {
     "name": "#%%\n"
    }
   },
   "outputs": [],
   "source": [
    "def text_to_graph(text, y):\n",
    "    edge_index = []  # list of all edges in a graph\n",
    "    doc = nlp(text)\n",
    "    root = 0\n",
    "    for token in doc:\n",
    "        edge_index.append([token.i, token.i])  # add a self loop\n",
    "        if token.i == token.head.i:\n",
    "            root = token.i\n",
    "        else:\n",
    "            edge_index.append([token.i, token.head.i])  # add a connection from token to its parent\n",
    "            edge_index.append([token.head.i, token.i])  # add a reverse connection\n",
    "    x = torch.tensor(np.array([d.vector for d in doc]))  # compute token embedings\n",
    "    edge_index = torch.tensor(edge_index, dtype=torch.long).t().contiguous()  # torch geometric expects to get the edges in a matrix with to rows and a column for each connection\n",
    "    data = Data(x=x, edge_index=edge_index, y=torch.tensor([y]), text=text, root_index=root)\n",
    "    return data"
   ]
  },
  {
   "cell_type": "code",
   "execution_count": 7,
   "metadata": {
    "pycharm": {
     "name": "#%%\n"
    }
   },
   "outputs": [
    {
     "data": {
      "image/png": "[encoded data removed]",
      "text/plain": [
       "<Figure size 640x480 with 1 Axes>"
      ]
     },
     "metadata": {},
     "output_type": "display_data"
    }
   ],
   "source": [
    "# visulise the graph\n",
    "import networkx as nx\n",
    "graph = text_to_graph(\"Today is a very sunny day.\", 0)\n",
    "g = pyg_utils.to_networkx(graph, to_undirected=True)\n",
    "nx.draw(g)"
   ]
  },
  {
   "cell_type": "markdown",
   "metadata": {},
   "source": [
    "### Sentiment analysis on yelp reviews:\n",
    "We will be using a modified version of the yelp reviews dataset. The modified version was created for paper [From Group to Individual Labels using Deep Features](http://www.datalab.uci.edu/papers/kdd2015_dimitris.pdf) and is availablek in [this github repository](https://github.com/microsoft/ML-Server-Python-Samples/blob/master/microsoftml/202/data/sentiment_analysis/yelp_labelled.txt). The dataset contains 1000 reviews that are marked as positive or negative. The classes in the dataset are balanced (we have 500 positive and 500 negative reviews)."
   ]
  },
  {
   "cell_type": "code",
   "execution_count": 8,
   "metadata": {
    "pycharm": {
     "name": "#%%\n"
    }
   },
   "outputs": [
    {
     "name": "stdout",
     "output_type": "stream",
     "text": [
      "                                                text  class\n",
      "0                           Wow... Loved this place.      1\n",
      "1                                 Crust is not good.      0\n",
      "2          Not tasty and the texture was just nasty.      0\n",
      "3  Stopped by during the late May bank holiday of...      1\n",
      "4  The selection on the menu was great and so wer...      1\n",
      "5     Now I am getting angry and I want my damn pho.      0\n",
      "6              Honeslty it didn't taste THAT fresh.)      0\n",
      "7  The potatoes were like rubber and you could te...      0\n",
      "8                          The fries were great too.      1\n",
      "9                                     A great touch.      1\n"
     ]
    }
   ],
   "source": [
    "# Read the data\n",
    "columns_name = ['text', 'class']\n",
    "data_yelp = pandas.read_csv('yelp_labelled.txt', sep='\\t', header=None)\n",
    "data_yelp.columns = columns_name\n",
    "print(data_yelp.head(10))"
   ]
  },
  {
   "cell_type": "code",
   "execution_count": 9,
   "metadata": {
    "colab": {
     "base_uri": "https://localhost:8080/",
     "height": 376
    },
    "id": "DR03ZqX0EJid",
    "outputId": "4d0ae8d2-09e0-467e-e271-d531f08c24e3"
   },
   "outputs": [],
   "source": [
    "# We use a standard pytorch dataset\n",
    "import random\n",
    "class Dataset(torch.utils.data.Dataset):\n",
    "    def __init__(self, df):\n",
    "        # the pandas dataframe on the input contains a column labeled 'text' with yelp review texts\n",
    "        # the column labeled 'class' contains a number representing the polarity of the review (positive / negative)\n",
    "        self.graphs = []\n",
    "        self.num_node_features = vector_size\n",
    "        self.num_classes = 2\n",
    "        for text, y in zip(df['text'], df['class']):\n",
    "            self.graphs.append(text_to_graph(text, y))\n",
    "        random.Random(1).shuffle(self.graphs)\n",
    "\n",
    "    def classes(self):\n",
    "        return self.labels\n",
    "\n",
    "    def __len__(self):\n",
    "        return len(self.graphs)\n",
    "\n",
    "    def __getitem__(self, idx):\n",
    "        return self.graphs[idx]"
   ]
  },
  {
   "cell_type": "code",
   "execution_count": 10,
   "metadata": {
    "pycharm": {
     "name": "#%%\n"
    }
   },
   "outputs": [
    {
     "name": "stdout",
     "output_type": "stream",
     "text": [
      "1000\n"
     ]
    }
   ],
   "source": [
    "# Construct the dataset.\n",
    "dataset = Dataset(data_yelp)\n",
    "print(len(dataset))"
   ]
  },
  {
   "cell_type": "code",
   "execution_count": 11,
   "metadata": {
    "pycharm": {
     "name": "#%%\n"
    }
   },
   "outputs": [
    {
     "name": "stdout",
     "output_type": "stream",
     "text": [
      "So flavorful and has just the perfect amount of heat.\n"
     ]
    },
    {
     "data": {
      "image/png": "[encoded data removed]",
      "text/plain": [
       "<Figure size 640x480 with 1 Axes>"
      ]
     },
     "metadata": {},
     "output_type": "display_data"
    }
   ],
   "source": [
    "# visualise the first document in a dataset\n",
    "graph = dataset[0]\n",
    "print(graph.text)\n",
    "g = pyg_utils.to_networkx(graph, to_undirected=True)\n",
    "nx.draw(g)"
   ]
  },
  {
   "cell_type": "markdown",
   "metadata": {},
   "source": [
    "### Creating the neural network\n",
    "**Graph convolutions**:\n",
    "There are many different implementations for computing graph convolutions implemented in PyTorch geometric library. We will take a look at the *GCNConv* layer since it is the most basic and simple to understand convolutional layer.\n",
    "**Initialization**: We provide the size of the node embeddings on the input and the size of node embeddings on the output.\n",
    "**Running**: GCNConv accepts a matrix representing node embeddings and the edge index matrix. It returns the matrix of new embeddings.\n",
    "\n",
    "Other types of convolutions can be found in the [PyTorch geometric documentation](https://pytorch-geometric.readthedocs.io/en/latest/modules/nn.html)\n",
    "Some more useful ones include:\n",
    "- **GCNConv** is the basic implementation of the layer that we described above.\n",
    "- **RGCNConv** supports multiple edge types. When using it we can provide additional argument called *edge_type* that holds a list of all edge types as integers.\n",
    "- **GINConv** convolution layer accepts a *nn* parameter that defines a module that is used to transform a node vector after the aggregation in the convolution step.\n",
    "- **GINEConv** is a modified version of GINConv. It adds support for edge features. It accepts the *edge_attr* parameter that defines the features for each edge in the *edge_index* matrix.\n",
    "- **GATConv** allows the use of attention when computing convolution operations."
   ]
  },
  {
   "cell_type": "code",
   "execution_count": 12,
   "metadata": {
    "pycharm": {
     "name": "#%%\n"
    }
   },
   "outputs": [
    {
     "name": "stdout",
     "output_type": "stream",
     "text": [
      "tensor([[-0.0759,  0.2042, -0.5652,  0.2439,  0.0089],\n",
      "        [ 0.2639, -0.1297, -0.7016,  0.0680,  0.5836],\n",
      "        [ 0.0406,  0.1505, -0.3071,  0.1992,  0.3695],\n",
      "        [-0.1124,  0.3738, -0.5416, -0.0889,  0.0299],\n",
      "        [ 0.2324,  0.0503, -0.8998, -0.0174,  0.2009],\n",
      "        [-0.0061, -0.1503, -0.5521, -0.4456,  0.4656],\n",
      "        [ 0.2201, -0.0846, -0.5539, -0.4350,  0.2505],\n",
      "        [ 0.2418, -0.2896, -1.1758, -0.6359,  0.7550],\n",
      "        [-0.1073,  0.2447, -1.2192, -0.2524,  0.6185],\n",
      "        [-0.1693,  0.1957, -1.2168, -0.2706,  0.7316],\n",
      "        [ 0.2453,  0.3733, -0.1515,  0.2012,  0.1100]], grad_fn=<AddBackward0>)\n"
     ]
    }
   ],
   "source": [
    "# performing a graph convolution\n",
    "graph = dataset[0]\n",
    "\n",
    "input_dim = vector_size\n",
    "output_dim = 5\n",
    "convolution = pyg_nn.GCNConv(input_dim, output_dim)\n",
    "print(convolution(graph.x, graph.edge_index))"
   ]
  },
  {
   "cell_type": "markdown",
   "metadata": {},
   "source": [
    "#### Working with batches:\n",
    "One of the challenges that we commonly come across when working with graph neural networks is how to group nodes in batches to be computed in parallel. The **torch_geometric.loader.DataLoader** class helps us with this by grouping graphs together into a larger batch.\n",
    "The DataLoader class automatically transforms the node features (x) and the edge matrix (edge_index) to generate a larger graph made up of the original graphs in a batch. It also adds the *batch* attribute that records the batch that each node came from. The transformation applied to custom attributes depends on their name. By default, the result will be a list of values from all graphs. For example elements with the word *index* in their name will get automatically incremented.\n",
    "![](batching.png)"
   ]
  },
  {
   "cell_type": "code",
   "execution_count": 13,
   "metadata": {
    "pycharm": {
     "name": "#%%\n"
    }
   },
   "outputs": [
    {
     "name": "stdout",
     "output_type": "stream",
     "text": [
      "DataBatch(x=[218, 300], edge_index=[2, 616], y=[16], text=[16], root_index=[16], batch=[218], ptr=[17])\n",
      "tensor([ 0,  0,  0,  0,  0,  0,  0,  0,  0,  0,  0,  1,  1,  1,  1,  1,  1,  1,\n",
      "         1,  1,  1,  2,  2,  2,  2,  2,  2,  2,  2,  2,  2,  2,  2,  2,  2,  2,\n",
      "         3,  3,  3,  3,  3,  3,  3,  3,  3,  3,  3,  3,  3,  4,  4,  4,  4,  4,\n",
      "         4,  4,  4,  4,  4,  5,  5,  5,  5,  5,  5,  5,  5,  6,  6,  6,  6,  6,\n",
      "         6,  6,  6,  6,  7,  7,  7,  7,  7,  7,  8,  8,  8,  8,  8,  8,  8,  8,\n",
      "         8,  8,  9,  9,  9,  9,  9,  9,  9,  9,  9,  9,  9,  9,  9,  9,  9,  9,\n",
      "         9,  9,  9,  9,  9,  9,  9,  9,  9,  9,  9,  9,  9,  9,  9,  9, 10, 10,\n",
      "        10, 10, 10, 10, 10, 10, 10, 10, 10, 10, 10, 10, 10, 10, 10, 10, 10, 10,\n",
      "        11, 11, 11, 12, 12, 12, 12, 12, 12, 12, 12, 12, 12, 12, 13, 13, 13, 13,\n",
      "        13, 14, 14, 14, 14, 14, 14, 14, 14, 14, 14, 14, 14, 14, 14, 14, 14, 14,\n",
      "        14, 14, 14, 14, 14, 14, 14, 14, 14, 14, 14, 14, 14, 14, 14, 14, 15, 15,\n",
      "        15, 15, 15, 15, 15, 15, 15, 15, 15, 15, 15, 15, 15, 15, 15, 15, 15, 15,\n",
      "        15, 15])\n"
     ]
    }
   ],
   "source": [
    "dataloader = DataLoader(dataset, batch_size=16)\n",
    "batch = next(iter(dataloader))\n",
    "print(batch)\n",
    "print(batch.batch)"
   ]
  },
  {
   "cell_type": "markdown",
   "metadata": {},
   "source": [
    "#### Building the model\n",
    "We define the neural network architecture with teh following layers:\n",
    "- convolution 300 -> 16\n",
    "- layer normalization\n",
    "- convolution layer 16 -> 16\n",
    "- layer normalization\n",
    "- convolution layer 16 -> 16\n",
    "- pooling\n",
    "- linear 16 -> 16\n",
    "- dropout layer\n",
    "- linear 16 -> 2\n",
    "\n",
    "![](network.png)\n",
    "By using 3 graph convolutional layers, each node will contain information from nodes that are at most 3 steps away."
   ]
  },
  {
   "cell_type": "code",
   "execution_count": 14,
   "metadata": {
    "pycharm": {
     "name": "#%%\n"
    }
   },
   "outputs": [],
   "source": [
    "class GNNStack(nn.Module):\n",
    "    def __init__(self, input_dim, hidden_dim, output_dim, pooling_type='pooling', dropout=0.25):\n",
    "        super(GNNStack, self).__init__()\n",
    "        self.pooling_type = pooling_type\n",
    "        self.convs = nn.ModuleList()\n",
    "        self.convs.append(self.build_conv_model(input_dim, hidden_dim))\n",
    "        self.lns = nn.ModuleList()\n",
    "        for l in range(2):\n",
    "            self.lns.append(nn.LayerNorm(hidden_dim))\n",
    "            self.convs.append(self.build_conv_model(hidden_dim, hidden_dim))\n",
    "\n",
    "        # post-message-passing\n",
    "        self.post_mp = nn.Sequential(\n",
    "            nn.Linear(hidden_dim, hidden_dim), nn.Dropout(dropout),\n",
    "            nn.Linear(hidden_dim, output_dim))\n",
    "\n",
    "        self.dropout = dropout\n",
    "        self.num_layers = 3\n",
    "\n",
    "    def build_conv_model(self, input_dim, hidden_dim):\n",
    "        return pyg_nn.GCNConv(input_dim, hidden_dim)\n",
    "\n",
    "    def forward(self, data):\n",
    "        x, edge_index, batch, root = data.x, data.edge_index, data.batch, data.root_index\n",
    "        if data.num_node_features == 0:\n",
    "            x = torch.ones(data.num_nodes, 1)\n",
    "\n",
    "        for i in range(self.num_layers):\n",
    "            x = self.convs[i](x=x, edge_index=edge_index)\n",
    "            if not i == self.num_layers - 1:\n",
    "                x = self.lns[i](x)\n",
    "\n",
    "        if self.pooling_type == 'pooling':\n",
    "            x = pyg_nn.global_mean_pool(x, batch)\n",
    "        else:\n",
    "            x = x[root]\n",
    "\n",
    "        x = self.post_mp(x)\n",
    "\n",
    "        return F.log_softmax(x, dim=1)\n",
    "        # return F.softmax(x, dim=1)\n",
    "\n",
    "    def loss(self, pred, label):\n",
    "        return F.nll_loss(pred, label)\n",
    "        # return F.cross_entropy(pred, label)"
   ]
  },
  {
   "cell_type": "markdown",
   "metadata": {},
   "source": [
    "#### Training a model\n",
    "Training the graph neural network is largely the same as training any other pytorch network. We split the dataset into training and testing part. We will use Adam optimizer to optimize the weights in the network. Every 10 epochs we also test the preformance of the model on the test data."
   ]
  },
  {
   "cell_type": "code",
   "execution_count": 15,
   "metadata": {
    "id": "wlUUfohyyRgt"
   },
   "outputs": [],
   "source": [
    "def train(dataset, pooling_type, writer, dropout=0.25, weight_decay=0):\n",
    "    data_size = len(dataset)\n",
    "    loader = DataLoader(dataset[:int(data_size * 0.8)], batch_size=64, shuffle=True)\n",
    "    test_loader = DataLoader(dataset[int(data_size * 0.8):], batch_size=64, shuffle=True)\n",
    "\n",
    "    # build model\n",
    "    model = GNNStack(max(dataset.num_node_features, 1), 16, dataset.num_classes, pooling_type=pooling_type, dropout=dropout)\n",
    "    opt = optim.Adam(model.parameters(), lr=0.0001, weight_decay=weight_decay)\n",
    "\n",
    "    # train\n",
    "    for epoch in range(101):\n",
    "        total_loss = 0\n",
    "        model.train()\n",
    "        for batch in loader:\n",
    "            opt.zero_grad()\n",
    "            pred = model(batch)\n",
    "            label = batch.y\n",
    "            loss = model.loss(pred, label)\n",
    "            loss.backward()\n",
    "            opt.step()\n",
    "            total_loss += loss.item() * batch.num_graphs\n",
    "        total_loss /= len(loader.dataset)\n",
    "        writer.add_scalar(\"loss\", total_loss, epoch)\n",
    "\n",
    "        if epoch % 10 == 0:\n",
    "            test_acc, test_prec, test_rec, test_f1 = test(test_loader, model)\n",
    "            print(\"Epoch {}. Loss: {:.4f}. Test accuracy: {:.4f}\".format(\n",
    "                epoch, total_loss, test_acc))\n",
    "            writer.add_scalar(\"test accuracy\", test_acc, epoch)\n",
    "\n",
    "    return model"
   ]
  },
  {
   "cell_type": "code",
   "execution_count": 16,
   "metadata": {
    "pycharm": {
     "name": "#%%\n"
    }
   },
   "outputs": [],
   "source": [
    "from sklearn.metrics import f1_score, precision_score, recall_score, accuracy_score\n",
    "def test(loader, model, is_validation=False):\n",
    "    model.eval()\n",
    "    predictions = []\n",
    "    labels = []\n",
    "    with torch.no_grad():\n",
    "        for data in loader:\n",
    "            pred = model(data)\n",
    "            pred = pred.argmax(dim=1)\n",
    "            label = data.y\n",
    "            predictions += pred.tolist()\n",
    "            labels += label.tolist()\n",
    "\n",
    "    total = len(loader.dataset)\n",
    "    accuracy = accuracy_score(labels, predictions)\n",
    "    recall = recall_score(labels, predictions)\n",
    "    precision = precision_score(labels, predictions)\n",
    "    f1 = f1_score(labels, predictions)\n",
    "    return accuracy, precision, recall, f1"
   ]
  },
  {
   "cell_type": "markdown",
   "metadata": {},
   "source": [
    "#### Getting a single embedding for the entire graph\n",
    "If we want to perform classification over the entire sentence and not just one word, we have to somehow aggregate the information captured in all token embeddings. The more general approach for getting information about the entire graph is to use pooling. In our example we use mean pooling, which simpli computes the mean of all token embeddings.\n",
    "On the other hand we can take advantage of the fact that our graphs are shaped like trees, so we can use the root node to aggregate the information from all nodes in a graph. In this case we will get the sentence embedding by taking the embedding of the root word."
   ]
  },
  {
   "cell_type": "code",
   "execution_count": 17,
   "metadata": {
    "pycharm": {
     "name": "#%%\n"
    }
   },
   "outputs": [
    {
     "name": "stdout",
     "output_type": "stream",
     "text": [
      "Epoch 0. Loss: 0.7040. Test accuracy: 0.5050\n",
      "Epoch 10. Loss: 0.6365. Test accuracy: 0.7350\n",
      "Epoch 20. Loss: 0.5012. Test accuracy: 0.8200\n",
      "Epoch 30. Loss: 0.3998. Test accuracy: 0.8750\n",
      "Epoch 40. Loss: 0.3442. Test accuracy: 0.8850\n",
      "Epoch 50. Loss: 0.3181. Test accuracy: 0.8900\n",
      "Epoch 60. Loss: 0.2753. Test accuracy: 0.8750\n",
      "Epoch 70. Loss: 0.2576. Test accuracy: 0.8700\n",
      "Epoch 80. Loss: 0.2341. Test accuracy: 0.8650\n",
      "Epoch 90. Loss: 0.2180. Test accuracy: 0.8550\n",
      "Epoch 100. Loss: 0.1896. Test accuracy: 0.8500\n"
     ]
    }
   ],
   "source": [
    "writer = SummaryWriter(\"./log/\" + datetime.now().strftime(\"%Y%m%d-%H%M%S\"))\n",
    "# classification_type = 'root'\n",
    "classification_type = 'pooling'\n",
    "model = train(dataset, classification_type, writer, dropout=0.25, weight_decay=0.001)"
   ]
  },
  {
   "cell_type": "markdown",
   "metadata": {},
   "source": [
    "#### Testing the model\n",
    "We expect to achieve an accuracy between 83% and 85%, which is comparable to the results presented in the paper where the dataset was developed. Their proposed method achieved an accuracy of 88%."
   ]
  },
  {
   "cell_type": "code",
   "execution_count": 18,
   "metadata": {
    "pycharm": {
     "name": "#%%\n"
    }
   },
   "outputs": [
    {
     "name": "stdout",
     "output_type": "stream",
     "text": [
      "Accuracy: 0.85\n",
      "Precision: 0.86\n",
      "Recall: 0.86\n",
      "F1: 0.86\n"
     ]
    }
   ],
   "source": [
    "test_acc, test_prec, test_rec, test_f1 = test(DataLoader(dataset[int(len(dataset) * 0.8):], batch_size=64, shuffle=True), model, is_validation=True)\n",
    "print(\"Accuracy: {:.2f}\\n\"\n",
    "      \"Precision: {:.2f}\\n\"\n",
    "      \"Recall: {:.2f}\\n\"\n",
    "      \"F1: {:.2f}\".format(test_acc, test_prec, test_rec, test_f1))"
   ]
  },
  {
   "cell_type": "code",
   "execution_count": 19,
   "metadata": {
    "pycharm": {
     "name": "#%%\n"
    }
   },
   "outputs": [
    {
     "data": {
      "text/plain": [
       "'rnn_torchviz.png'"
      ]
     },
     "execution_count": 19,
     "metadata": {},
     "output_type": "execute_result"
    }
   ],
   "source": [
    "# Visualising the network\n",
    "from torchviz import make_dot\n",
    "res = model(dataset[0])\n",
    "make_dot(res, params=dict(list(model.named_parameters()))).render(\"rnn_torchviz\", format=\"png\")"
   ]
  },
  {
   "cell_type": "markdown",
   "metadata": {
    "pycharm": {
     "name": "#%% md\n"
    }
   },
   "source": [
    "Further reading:\n",
    "- Using a graph neural network for classification of temporal relations between events: [Event Temporal Relation Extraction with Attention Mechanism and Graph Neural Network](https://ieeexplore.ieee.org/stamp/stamp.jsp?arnumber=9515702)\n",
    "- Graph neural networks tutorial by Stanford University: [Jupyter notebook](https://colab.research.google.com/drive/1DIQm9rOx2mT1bZETEeVUThxcrP1RKqAn)\n",
    "- Check LangChain's library [LangGraph](https://python.langchain.com/docs/langgraph/) for easy to use programming interface.\n",
    "- Check [PyG](https://www.pyg.org/) library for more advanced usage."
   ]
  },
  {
   "cell_type": "markdown",
   "metadata": {},
   "source": []
  }
 ],
 "metadata": {
  "accelerator": "GPU",
  "colab": {
   "collapsed_sections": [],
   "name": "GNN NLP.ipynb",
   "provenance": []
  },
  "kernelspec": {
   "display_name": "venv",
   "language": "python",
   "name": "python3"
  },
  "language_info": {
   "codemirror_mode": {
    "name": "ipython",
    "version": 3
   },
   "file_extension": ".py",
   "mimetype": "text/x-python",
   "name": "python",
   "nbconvert_exporter": "python",
   "pygments_lexer": "ipython3",
   "version": "3.10.14"
  }
 },
 "nbformat": 4,
 "nbformat_minor": 4
}
